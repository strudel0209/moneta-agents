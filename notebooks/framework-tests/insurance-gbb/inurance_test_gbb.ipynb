{
 "cells": [
  {
   "cell_type": "code",
   "execution_count": null,
   "metadata": {
    "dotnet_interactive": {
     "language": "csharp"
    },
    "polyglot_notebook": {
     "kernelName": "csharp"
    }
   },
   "outputs": [],
   "source": [
    "import sys\n",
    "import os\n",
    "import pandas as pd\n",
    "from dotenv import load_dotenv\n",
    "from azure.ai.evaluation import SimilarityEvaluator\n",
    "\n",
    "backend_path = os.path.abspath(os.path.join(os.getcwd(), '..', '..', '..', 'backend'))\n",
    "sys.path.append(backend_path)\n",
    "\n",
    "from genai_vanilla_agents.workflow import Workflow\n",
    "from genai_vanilla_agents.conversation import Conversation\n",
    "\n",
    "from agents.fsi_insurance.group_chat import create_group_chat_insurance\n",
    "\n",
    "load_dotenv()\n",
    "\n",
    "parent_dir = os.path.abspath('..')\n",
    "\n",
    "if parent_dir not in sys.path:\n",
    "    sys.path.insert(0, parent_dir)"
   ]
  },
  {
   "cell_type": "code",
   "execution_count": 2,
   "metadata": {},
   "outputs": [],
   "source": [
    "# Initialize Azure OpenAI Connection with your environment variables\n",
    "model_config = {\n",
    "    \"azure_endpoint\": os.environ.get(\"AZURE_OPENAI_ENDPOINT\"),\n",
    "    \"api_key\": os.environ.get(\"AZURE_OPENAI_KEY\"),\n",
    "    \"azure_deployment\": os.environ.get(\"AZURE_OPENAI_MODEL\"),\n",
    "    \"api_version\": os.environ.get(\"AZURE_OPENAI_API_VERSION\"),\n",
    "}\n",
    "\n",
    "similarity = SimilarityEvaluator(model_config)"
   ]
  },
  {
   "cell_type": "code",
   "execution_count": null,
   "metadata": {
    "dotnet_interactive": {
     "language": "csharp"
    },
    "polyglot_notebook": {
     "kernelName": "csharp"
    }
   },
   "outputs": [],
   "source": [
    "def get_agentic_response(row):\n",
    "    \"\"\"\n",
    "    * pulled from MONETA.\n",
    "    * removed conversation history\n",
    "    * added similarity score\n",
    "    \"\"\"\n",
    "    \n",
    "    query = row['Queries']\n",
    "    ground_truth = row['Answer']\n",
    "    \n",
    "    conversation_history = Conversation(messages=[], variables={})\n",
    "    team = create_group_chat_insurance()\n",
    "    \n",
    "    workflow = Workflow(askable=team, conversation=conversation_history)\n",
    "    workflow.run(query)\n",
    "    \n",
    "    delta = len(workflow.conversation.messages) \n",
    "    \n",
    "    first_column_name = row.index[0]\n",
    "    first_field = row[first_column_name]\n",
    "    print(f\"Record : {first_field} - {len(workflow.conversation.messages)}\")\n",
    "    \n",
    "    new_messages = workflow.conversation.messages[-delta:]\n",
    "    \n",
    "    assistant_message = None\n",
    "    \n",
    "    for message in reversed(new_messages):\n",
    "        if message.get('role') == 'assistant':\n",
    "            assistant_message = message\n",
    "            break\n",
    "        \n",
    "    if assistant_message:\n",
    "        content = assistant_message.get('content', '')\n",
    "        name = assistant_message.get('name', '')\n",
    "    else:\n",
    "        message = next(reversed(new_messages))\n",
    "        content = f\"{message.get('content', ' NO CONTENT FOUND ')} - {message.get('name', ' NO NAME FOUND ')}\"\n",
    "        name = 'ERROR'\n",
    "        print(f\"ERROR: {content}\")\n",
    "        \n",
    "    # Scoring\n",
    "    similarity_score = similarity(query=query, response=content, ground_truth=ground_truth)\n",
    "    \n",
    "     # Add a delay (e.g., 5 second) between requests\n",
    "    # time.sleep(3)\n",
    "\n",
    "    # Return the content and name as a Series\n",
    "    return pd.Series({'agentic_answer': content, 'agent_name': name, 'similarity_score': similarity_score.get('gpt_similarity')})\n"
   ]
  },
  {
   "cell_type": "code",
   "execution_count": null,
   "metadata": {
    "dotnet_interactive": {
     "language": "csharp"
    },
    "polyglot_notebook": {
     "kernelName": "csharp"
    }
   },
   "outputs": [],
   "source": [
    "df = pd.read_csv('../../../../travel_question_bank_answered_anon.csv')"
   ]
  },
  {
   "cell_type": "code",
   "execution_count": null,
   "metadata": {
    "dotnet_interactive": {
     "language": "csharp"
    },
    "polyglot_notebook": {
     "kernelName": "csharp"
    }
   },
   "outputs": [],
   "source": [
    "# Single row \n",
    "row = df.iloc[1]\n",
    "\n",
    "print(f\"ROW:\\n\\n{row}\\n\\n\")\n",
    "\n",
    "dd = get_agentic_response(row)\n",
    "\n",
    "print(f\"Agent name: {dd['agent_name']}\")\n",
    "print(f\"Similarity score: {dd['similarity_score']}\")\n",
    "print(f\"Agentic answer: {dd['agentic_answer']}\")\n",
    "print(f\"---------------------------\")\n",
    "print(f\"Ground Truth Answer: {row['Answer']}\")\n"
   ]
  },
  {
   "cell_type": "code",
   "execution_count": null,
   "metadata": {
    "dotnet_interactive": {
     "language": "csharp"
    },
    "polyglot_notebook": {
     "kernelName": "csharp"
    }
   },
   "outputs": [],
   "source": [
    "# Apply the function to each row\n",
    "df[['agentic_answer', 'agent_name', 'similarity_score']] = df.apply(get_agentic_response, axis=1)"
   ]
  },
  {
   "cell_type": "code",
   "execution_count": 7,
   "metadata": {},
   "outputs": [
    {
     "data": {
      "text/plain": [
       "agent_name\n",
       "Product    3.204082\n",
       "CRM        2.000000\n",
       "Planner    1.000000\n",
       "Name: similarity_score, dtype: float64"
      ]
     },
     "execution_count": 7,
     "metadata": {},
     "output_type": "execute_result"
    }
   ],
   "source": [
    "df.groupby('agent_name')['similarity_score'].mean().sort_values(ascending=False)"
   ]
  },
  {
   "cell_type": "code",
   "execution_count": null,
   "metadata": {},
   "outputs": [
    {
     "name": "stdout",
     "output_type": "stream",
     "text": [
      "The mean similarity score is: 2.85\n"
     ]
    }
   ],
   "source": [
    "mean_similarity_score = df['similarity_score'].mean()\n",
    "print(f\"The mean similarity score is: {mean_similarity_score:.2f}\")"
   ]
  },
  {
   "cell_type": "code",
   "execution_count": null,
   "metadata": {},
   "outputs": [],
   "source": [
    "\n",
    "df.to_csv('agentic_responses_gbb.csv', index=False)"
   ]
  }
 ],
 "metadata": {
  "kernelspec": {
   "display_name": ".venv",
   "language": "python",
   "name": "python3"
  },
  "language_info": {
   "codemirror_mode": {
    "name": "ipython",
    "version": 3
   },
   "file_extension": ".py",
   "mimetype": "text/x-python",
   "name": "python",
   "nbconvert_exporter": "python",
   "pygments_lexer": "ipython3",
   "version": "3.12.4"
  },
  "polyglot_notebook": {
   "kernelInfo": {
    "defaultKernelName": "csharp",
    "items": [
     {
      "aliases": [],
      "name": "csharp"
     }
    ]
   }
  }
 },
 "nbformat": 4,
 "nbformat_minor": 2
}
