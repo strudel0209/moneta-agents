{
 "cells": [
  {
   "cell_type": "code",
   "execution_count": 3,
   "metadata": {
    "dotnet_interactive": {
     "language": "csharp"
    },
    "polyglot_notebook": {
     "kernelName": "csharp"
    }
   },
   "outputs": [
    {
     "name": "stdout",
     "output_type": "stream",
     "text": [
      "None\n"
     ]
    },
    {
     "ename": "ValueError",
     "evalue": "Invalid URL scheme or hostname: SplitResultBytes(scheme=b'', netloc=b'', path=b'', query=b'', fragment=b'')",
     "output_type": "error",
     "traceback": [
      "\u001b[0;31m---------------------------------------------------------------------------\u001b[0m",
      "\u001b[0;31mValueError\u001b[0m                                Traceback (most recent call last)",
      "Cell \u001b[0;32mIn[3], line 22\u001b[0m\n\u001b[1;32m     20\u001b[0m \u001b[38;5;28;01mfrom\u001b[39;00m \u001b[38;5;21;01mcrm_store\u001b[39;00m \u001b[38;5;28;01mimport\u001b[39;00m CRMStore\n\u001b[1;32m     21\u001b[0m \u001b[38;5;28;01mfrom\u001b[39;00m \u001b[38;5;21;01mproduct_store\u001b[39;00m \u001b[38;5;28;01mimport\u001b[39;00m ProductStore\n\u001b[0;32m---> 22\u001b[0m \u001b[38;5;28;01mimport\u001b[39;00m \u001b[38;5;21;01magentic_system\u001b[39;00m\n\u001b[1;32m     24\u001b[0m load_dotenv(override\u001b[38;5;241m=\u001b[39m\u001b[38;5;28;01mTrue\u001b[39;00m)\n",
      "File \u001b[0;32m~/prj/70-agentic/01.agentic-demo/aoai-fsi-empowering-advisory-agentic/notebooks/framework-tests/insurance-semantic-kernel/agentic_system.py:39\u001b[0m\n\u001b[1;32m     36\u001b[0m \u001b[38;5;66;03m## Configuring python adapters to Product (AI Search) and CRM (Cosmos DB)\u001b[39;00m\n\u001b[1;32m     37\u001b[0m credential \u001b[38;5;241m=\u001b[39m DefaultAzureCredential()\n\u001b[0;32m---> 39\u001b[0m crm \u001b[38;5;241m=\u001b[39m \u001b[43mCRMStore\u001b[49m\u001b[43m(\u001b[49m\n\u001b[1;32m     40\u001b[0m \u001b[43m        \u001b[49m\u001b[43murl\u001b[49m\u001b[38;5;241;43m=\u001b[39;49m\u001b[43mos\u001b[49m\u001b[38;5;241;43m.\u001b[39;49m\u001b[43mgetenv\u001b[49m\u001b[43m(\u001b[49m\u001b[38;5;124;43m\"\u001b[39;49m\u001b[38;5;124;43mCOSMOSDB_ENDPOINT\u001b[39;49m\u001b[38;5;124;43m\"\u001b[39;49m\u001b[43m)\u001b[49m\u001b[43m,\u001b[49m\n\u001b[1;32m     41\u001b[0m \u001b[43m        \u001b[49m\u001b[43mcredential\u001b[49m\u001b[38;5;241;43m=\u001b[39;49m\u001b[43mcredential\u001b[49m\u001b[43m,\u001b[49m\n\u001b[1;32m     42\u001b[0m \u001b[43m        \u001b[49m\u001b[43mdatabase_name\u001b[49m\u001b[38;5;241;43m=\u001b[39;49m\u001b[43mos\u001b[49m\u001b[38;5;241;43m.\u001b[39;49m\u001b[43mgetenv\u001b[49m\u001b[43m(\u001b[49m\u001b[38;5;124;43m\"\u001b[39;49m\u001b[38;5;124;43mCOSMOSDB_DATABASE_NAME\u001b[39;49m\u001b[38;5;124;43m\"\u001b[39;49m\u001b[43m)\u001b[49m\u001b[43m,\u001b[49m\n\u001b[1;32m     43\u001b[0m \u001b[43m        \u001b[49m\u001b[43mcontainer_name\u001b[49m\u001b[38;5;241;43m=\u001b[39;49m\u001b[43mos\u001b[49m\u001b[38;5;241;43m.\u001b[39;49m\u001b[43mgetenv\u001b[49m\u001b[43m(\u001b[49m\u001b[38;5;124;43m\"\u001b[39;49m\u001b[38;5;124;43mCOSMOSDB_CONTAINER_CLIENT_NAME\u001b[39;49m\u001b[38;5;124;43m\"\u001b[39;49m\u001b[43m)\u001b[49m\n\u001b[1;32m     44\u001b[0m \u001b[43m    \u001b[49m\u001b[43m)\u001b[49m\n\u001b[1;32m     46\u001b[0m product \u001b[38;5;241m=\u001b[39m ProductStore()\n\u001b[1;32m     48\u001b[0m gpt4o_service \u001b[38;5;241m=\u001b[39m AzureChatCompletion(service_id\u001b[38;5;241m=\u001b[39m\u001b[38;5;124m\"\u001b[39m\u001b[38;5;124mgpt-4o\u001b[39m\u001b[38;5;124m\"\u001b[39m, \n\u001b[1;32m     49\u001b[0m                         api_key\u001b[38;5;241m=\u001b[39mos\u001b[38;5;241m.\u001b[39mgetenv(\u001b[38;5;124m\"\u001b[39m\u001b[38;5;124mAZURE_OPENAI_KEY\u001b[39m\u001b[38;5;124m\"\u001b[39m), \n\u001b[1;32m     50\u001b[0m                         api_version\u001b[38;5;241m=\u001b[39mAPI_VERSION, \n\u001b[1;32m     51\u001b[0m                         base_url\u001b[38;5;241m=\u001b[39mAPI_BASE, \n\u001b[1;32m     52\u001b[0m                         deployment_name\u001b[38;5;241m=\u001b[39mAZURE_OPENAI_DEPLOYMENT_NAME)\n",
      "File \u001b[0;32m~/prj/70-agentic/01.agentic-demo/aoai-fsi-empowering-advisory-agentic/notebooks/framework-tests/insurance-semantic-kernel/crm_store.py:11\u001b[0m, in \u001b[0;36mCRMStore.__init__\u001b[0;34m(self, url, credential, database_name, container_name)\u001b[0m\n\u001b[1;32m     10\u001b[0m \u001b[38;5;28;01mdef\u001b[39;00m \u001b[38;5;21m__init__\u001b[39m(\u001b[38;5;28mself\u001b[39m, url, credential, database_name, container_name):\n\u001b[0;32m---> 11\u001b[0m     \u001b[38;5;28mself\u001b[39m\u001b[38;5;241m.\u001b[39mclient \u001b[38;5;241m=\u001b[39m \u001b[43mCosmosClient\u001b[49m\u001b[43m(\u001b[49m\u001b[43murl\u001b[49m\u001b[43m,\u001b[49m\u001b[43m \u001b[49m\u001b[43mcredential\u001b[49m\u001b[38;5;241;43m=\u001b[39;49m\u001b[43mcredential\u001b[49m\u001b[43m)\u001b[49m\n\u001b[1;32m     12\u001b[0m     \u001b[38;5;28mself\u001b[39m\u001b[38;5;241m.\u001b[39mdatabase_name \u001b[38;5;241m=\u001b[39m database_name\n\u001b[1;32m     13\u001b[0m     \u001b[38;5;28mself\u001b[39m\u001b[38;5;241m.\u001b[39mcontainer_name \u001b[38;5;241m=\u001b[39m container_name\n",
      "File \u001b[0;32m~/prj/70-agentic/01.agentic-demo/aoai-fsi-empowering-advisory-agentic/notebooks/framework-tests/insurance-semantic-kernel/.venv/lib/python3.12/site-packages/azure/cosmos/cosmos_client.py:205\u001b[0m, in \u001b[0;36mCosmosClient.__init__\u001b[0;34m(self, url, credential, consistency_level, **kwargs)\u001b[0m\n\u001b[1;32m    203\u001b[0m auth \u001b[38;5;241m=\u001b[39m _build_auth(credential)\n\u001b[1;32m    204\u001b[0m connection_policy \u001b[38;5;241m=\u001b[39m _build_connection_policy(kwargs)\n\u001b[0;32m--> 205\u001b[0m \u001b[38;5;28mself\u001b[39m\u001b[38;5;241m.\u001b[39mclient_connection \u001b[38;5;241m=\u001b[39m \u001b[43mCosmosClientConnection\u001b[49m\u001b[43m(\u001b[49m\n\u001b[1;32m    206\u001b[0m \u001b[43m    \u001b[49m\u001b[43murl\u001b[49m\u001b[43m,\u001b[49m\u001b[43m \u001b[49m\u001b[43mauth\u001b[49m\u001b[38;5;241;43m=\u001b[39;49m\u001b[43mauth\u001b[49m\u001b[43m,\u001b[49m\u001b[43m \u001b[49m\u001b[43mconsistency_level\u001b[49m\u001b[38;5;241;43m=\u001b[39;49m\u001b[43mconsistency_level\u001b[49m\u001b[43m,\u001b[49m\u001b[43m \u001b[49m\u001b[43mconnection_policy\u001b[49m\u001b[38;5;241;43m=\u001b[39;49m\u001b[43mconnection_policy\u001b[49m\u001b[43m,\u001b[49m\u001b[43m \u001b[49m\u001b[38;5;241;43m*\u001b[39;49m\u001b[38;5;241;43m*\u001b[39;49m\u001b[43mkwargs\u001b[49m\n\u001b[1;32m    207\u001b[0m \u001b[43m\u001b[49m\u001b[43m)\u001b[49m\n",
      "File \u001b[0;32m~/prj/70-agentic/01.agentic-demo/aoai-fsi-empowering-advisory-agentic/notebooks/framework-tests/insurance-semantic-kernel/.venv/lib/python3.12/site-packages/azure/cosmos/_cosmos_client_connection.py:198\u001b[0m, in \u001b[0;36mCosmosClientConnection.__init__\u001b[0;34m(self, url_connection, auth, connection_policy, consistency_level, **kwargs)\u001b[0m\n\u001b[1;32m    196\u001b[0m credentials_policy \u001b[38;5;241m=\u001b[39m \u001b[38;5;28;01mNone\u001b[39;00m\n\u001b[1;32m    197\u001b[0m \u001b[38;5;28;01mif\u001b[39;00m \u001b[38;5;28mself\u001b[39m\u001b[38;5;241m.\u001b[39maad_credentials:\n\u001b[0;32m--> 198\u001b[0m     scope \u001b[38;5;241m=\u001b[39m \u001b[43mbase\u001b[49m\u001b[38;5;241;43m.\u001b[39;49m\u001b[43mcreate_scope_from_url\u001b[49m\u001b[43m(\u001b[49m\u001b[38;5;28;43mself\u001b[39;49m\u001b[38;5;241;43m.\u001b[39;49m\u001b[43murl_connection\u001b[49m\u001b[43m)\u001b[49m\n\u001b[1;32m    199\u001b[0m     credentials_policy \u001b[38;5;241m=\u001b[39m CosmosBearerTokenCredentialPolicy(\u001b[38;5;28mself\u001b[39m\u001b[38;5;241m.\u001b[39maad_credentials, scope)\n\u001b[1;32m    201\u001b[0m policies \u001b[38;5;241m=\u001b[39m [\n\u001b[1;32m    202\u001b[0m     HeadersPolicy(\u001b[38;5;241m*\u001b[39m\u001b[38;5;241m*\u001b[39mkwargs),\n\u001b[1;32m    203\u001b[0m     ProxyPolicy(proxies\u001b[38;5;241m=\u001b[39mproxies),\n\u001b[0;32m   (...)\u001b[0m\n\u001b[1;32m    214\u001b[0m     ),\n\u001b[1;32m    215\u001b[0m ]\n",
      "File \u001b[0;32m~/prj/70-agentic/01.agentic-demo/aoai-fsi-empowering-advisory-agentic/notebooks/framework-tests/insurance-semantic-kernel/.venv/lib/python3.12/site-packages/azure/cosmos/_base.py:691\u001b[0m, in \u001b[0;36mcreate_scope_from_url\u001b[0;34m(url)\u001b[0m\n\u001b[1;32m    689\u001b[0m parsed_url \u001b[38;5;241m=\u001b[39m urlsplit(url)\n\u001b[1;32m    690\u001b[0m \u001b[38;5;28;01mif\u001b[39;00m \u001b[38;5;129;01mnot\u001b[39;00m parsed_url\u001b[38;5;241m.\u001b[39mscheme \u001b[38;5;129;01mor\u001b[39;00m \u001b[38;5;129;01mnot\u001b[39;00m parsed_url\u001b[38;5;241m.\u001b[39mhostname:\n\u001b[0;32m--> 691\u001b[0m     \u001b[38;5;28;01mraise\u001b[39;00m \u001b[38;5;167;01mValueError\u001b[39;00m(\u001b[38;5;124mf\u001b[39m\u001b[38;5;124m\"\u001b[39m\u001b[38;5;124mInvalid URL scheme or hostname: \u001b[39m\u001b[38;5;132;01m{\u001b[39;00mparsed_url\u001b[38;5;132;01m!r}\u001b[39;00m\u001b[38;5;124m\"\u001b[39m)\n\u001b[1;32m    692\u001b[0m \u001b[38;5;28;01mreturn\u001b[39;00m parsed_url\u001b[38;5;241m.\u001b[39mscheme \u001b[38;5;241m+\u001b[39m \u001b[38;5;124m\"\u001b[39m\u001b[38;5;124m://\u001b[39m\u001b[38;5;124m\"\u001b[39m \u001b[38;5;241m+\u001b[39m parsed_url\u001b[38;5;241m.\u001b[39mhostname \u001b[38;5;241m+\u001b[39m \u001b[38;5;124m\"\u001b[39m\u001b[38;5;124m/.default\u001b[39m\u001b[38;5;124m\"\u001b[39m\n",
      "\u001b[0;31mValueError\u001b[0m: Invalid URL scheme or hostname: SplitResultBytes(scheme=b'', netloc=b'', path=b'', query=b'', fragment=b'')"
     ]
    }
   ],
   "source": [
    "import os\n",
    "import pandas as pd\n",
    "from azure.identity import DefaultAzureCredential\n",
    "from dotenv import load_dotenv\n",
    "from semantic_kernel.agents import AgentGroupChat, ChatCompletionAgent, AgentChat\n",
    "from semantic_kernel.agents.strategies.termination.termination_strategy import TerminationStrategy\n",
    "from semantic_kernel.agents.strategies import DefaultTerminationStrategy, KernelFunctionSelectionStrategy, KernelFunctionTerminationStrategy\n",
    "\n",
    "from semantic_kernel.connectors.ai.open_ai.services.azure_chat_completion import AzureChatCompletion\n",
    "from semantic_kernel.connectors.ai import PromptExecutionSettings\n",
    "from semantic_kernel.connectors.ai.open_ai import AzureChatPromptExecutionSettings\n",
    "from semantic_kernel.connectors.ai.function_choice_behavior import FunctionChoiceBehavior\n",
    "\n",
    "from semantic_kernel.contents.chat_message_content import ChatMessageContent\n",
    "from semantic_kernel.contents.utils.author_role import AuthorRole\n",
    "from semantic_kernel.contents.chat_history import ChatHistory\n",
    "from semantic_kernel.kernel import Kernel\n",
    "from semantic_kernel.functions import KernelPlugin, KernelFunctionFromPrompt\n",
    "from azure.ai.evaluation import SimilarityEvaluator\n",
    "from crm_store import CRMStore\n",
    "from product_store import ProductStore\n",
    "import agentic_system\n",
    "\n",
    "load_dotenv(override=True)"
   ]
  },
  {
   "cell_type": "code",
   "execution_count": 2,
   "metadata": {},
   "outputs": [
    {
     "name": "stdout",
     "output_type": "stream",
     "text": [
      "gpt-4o-2024-05-13\n"
     ]
    }
   ],
   "source": [
    "AZURE_OPENAI_ENDPOINT = os.getenv(\"AZURE_OPENAI_ENDPOINT\")\n",
    "AZURE_OPENAI_DEPLOYMENT_NAME = os.getenv(\"AZURE_OPENAI_DEPLOYMENT_NAME\")\n",
    "API_VERSION = \"2024-06-01\"\n",
    "\n",
    "API_BASE = f\"{AZURE_OPENAI_ENDPOINT}/openai/deployments/{AZURE_OPENAI_DEPLOYMENT_NAME}\"\n",
    "\n",
    "print(AZURE_OPENAI_DEPLOYMENT_NAME)"
   ]
  },
  {
   "cell_type": "code",
   "execution_count": 3,
   "metadata": {},
   "outputs": [],
   "source": [
    "# Initialize Azure OpenAI Connection with your environment variables\n",
    "model_config = {\n",
    "    \"azure_endpoint\": os.environ.get(\"AZURE_OPENAI_ENDPOINT\"),\n",
    "    \"api_key\": os.environ.get(\"AZURE_OPENAI_KEY\"),\n",
    "    \"azure_deployment\": os.environ.get(\"AZURE_OPENAI_DEPLOYMENT_NAME\"),\n",
    "    \"api_version\": os.environ.get(\"AZURE_OPENAI_API_VERSION\"),\n",
    "}\n",
    "\n",
    "similarity = SimilarityEvaluator(model_config)"
   ]
  },
  {
   "cell_type": "code",
   "execution_count": null,
   "metadata": {},
   "outputs": [],
   "source": [
    "import time\n",
    "def get_agentic_response(row):\n",
    "    query = row['Queries']\n",
    "    ground_truth = row['Answer']\n",
    "    \n",
    "    first_column_name = row.index[0]\n",
    "    first_field = row[first_column_name]\n",
    "    \n",
    "    res = agentic_system.invoke(query=query)\n",
    "    \n",
    "    print(f\"Record : {first_field} - {query} - {res.get('count')}\")\n",
    "    \n",
    "    content = res.get(\"content\", str(res))\n",
    "    name = res.get(\"name\", \"ERROR\")\n",
    "    similarity_score = similarity(query=query, response=content, ground_truth=ground_truth)\n",
    "    \n",
    "    time.sleep(1)\n",
    "    # Return the content and name as a Series\n",
    "    return pd.Series({'agentic_answer': content, 'agent_name': name, 'similarity_score': similarity_score.get('gpt_similarity')})"
   ]
  },
  {
   "cell_type": "code",
   "execution_count": null,
   "metadata": {},
   "outputs": [],
   "source": [
    "df = pd.read_csv('../../../../travel_question_bank_answered_anon.csv')"
   ]
  },
  {
   "cell_type": "code",
   "execution_count": null,
   "metadata": {},
   "outputs": [],
   "source": [
    "# SINGLE RECORD\n",
    "row = df.iloc[0]\n",
    "\n",
    "print(f\"ROW:\\n\\n{row}\\n\\n\")\n",
    "\n",
    "dd = get_agentic_response(row)\n",
    "\n",
    "print(f\"Agent name: {dd['agent_name']}\")\n",
    "print(f\"Similarity score: {dd['similarity_score']}\")\n",
    "print(f\"Agentic answer: {dd['agentic_answer']}\")\n",
    "print(f\"---------------------------\")\n",
    "print(f\"Ground Truth Answer: {row['Answer']}\")"
   ]
  },
  {
   "cell_type": "code",
   "execution_count": null,
   "metadata": {},
   "outputs": [],
   "source": [
    "df[['agentic_answer', 'agent_name', 'similarity_score']] = df.apply(get_agentic_response, axis=1)"
   ]
  },
  {
   "cell_type": "code",
   "execution_count": 8,
   "metadata": {},
   "outputs": [
    {
     "data": {
      "text/plain": [
       "agent_name\n",
       "QUERY      3.254237\n",
       "PLANNER    1.000000\n",
       "Name: similarity_score, dtype: float64"
      ]
     },
     "execution_count": 8,
     "metadata": {},
     "output_type": "execute_result"
    }
   ],
   "source": [
    "df.groupby('agent_name')['similarity_score'].mean().sort_values(ascending=False)"
   ]
  },
  {
   "cell_type": "code",
   "execution_count": 9,
   "metadata": {},
   "outputs": [
    {
     "data": {
      "text/plain": [
       "agent_name\n",
       "QUERY      59\n",
       "PLANNER     1\n",
       "Name: similarity_score, dtype: int64"
      ]
     },
     "execution_count": 9,
     "metadata": {},
     "output_type": "execute_result"
    }
   ],
   "source": [
    "df.groupby('agent_name')['similarity_score'].count().sort_values(ascending=False)"
   ]
  },
  {
   "cell_type": "code",
   "execution_count": null,
   "metadata": {},
   "outputs": [
    {
     "name": "stdout",
     "output_type": "stream",
     "text": [
      "The mean similarity score is: 3.22\n"
     ]
    }
   ],
   "source": [
    "mean_similarity_score = df['similarity_score'].mean()\n",
    "print(f\"The mean similarity score is: {mean_similarity_score:.2f}\")"
   ]
  },
  {
   "cell_type": "code",
   "execution_count": null,
   "metadata": {},
   "outputs": [],
   "source": [
    "df.to_csv('agentic_responses_sk.csv', index=False)"
   ]
  }
 ],
 "metadata": {
  "kernelspec": {
   "display_name": ".venv",
   "language": "python",
   "name": "python3"
  },
  "language_info": {
   "codemirror_mode": {
    "name": "ipython",
    "version": 3
   },
   "file_extension": ".py",
   "mimetype": "text/x-python",
   "name": "python",
   "nbconvert_exporter": "python",
   "pygments_lexer": "ipython3",
   "version": "3.12.4"
  },
  "polyglot_notebook": {
   "kernelInfo": {
    "defaultKernelName": "csharp",
    "items": [
     {
      "aliases": [],
      "name": "csharp"
     }
    ]
   }
  }
 },
 "nbformat": 4,
 "nbformat_minor": 2
}
