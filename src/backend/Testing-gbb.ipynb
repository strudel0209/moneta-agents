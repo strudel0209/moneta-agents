{
 "cells": [
  {
   "cell_type": "code",
   "execution_count": 1,
   "metadata": {},
   "outputs": [],
   "source": [
    "import json\n",
    "import time\n",
    "from dotenv import load_dotenv\n",
    "\n",
    "load_dotenv()\n",
    "\n",
    "import sys\n",
    "import os\n",
    "\n",
    "\n",
    "from azure.identity import DefaultAzureCredential\n",
    "from crm_store import CRMStore\n",
    "\n",
    "from conversation_store import ConversationStore\n",
    "from genai_vanilla_agents.workflow import Workflow\n",
    "from genai_vanilla_agents.conversation import Conversation\n",
    "from agents.fsi_insurance.group_chat import create_group_chat_insurance\n",
    "from agents.fsi_banking.group_chat import create_group_chat_banking\n",
    "\n",
    "key = DefaultAzureCredential()\n",
    "db = CRMStore(\n",
    "        url=os.getenv(\"COSMOSDB_ENDPOINT\"),\n",
    "        key=key,\n",
    "        database_name=os.getenv(\"COSMOSDB_DATABASE_NAME\"),\n",
    "        container_name=os.getenv(\"COSMOSDB_CONTAINER_CLIENT_NAME\")\n",
    "    )\n",
    "\n",
    "import logging\n",
    "# Set logging to debug for Agent, User, and Workflow\n",
    "logging.basicConfig(level=logging.WARN)\n",
    "logging.getLogger(\"genai_vanilla_agents.agent\").setLevel(logging.DEBUG)\n",
    "logging.getLogger(\"genai_vanilla_agents.team\").setLevel(logging.DEBUG)\n",
    "logging.getLogger(\"genai_vanilla_agents.user\").setLevel(logging.DEBUG)\n",
    "logging.getLogger(\"genai_vanilla_agents.workflow\").setLevel(logging.DEBUG)\n",
    "\n",
    "logging.getLogger(\"agents.fsi_banking.group_chat\").setLevel(logging.DEBUG)"
   ]
  },
  {
   "cell_type": "markdown",
   "metadata": {},
   "source": [
    "### Single Agent Selection from Team"
   ]
  },
  {
   "cell_type": "code",
   "execution_count": 2,
   "metadata": {},
   "outputs": [
    {
     "name": "stderr",
     "output_type": "stream",
     "text": [
      "DEBUG:agents.fsi_banking.group_chat:agent team strategy decision = single\n",
      "DEBUG:genai_vanilla_agents.team:[Team group_chat] initialized with agents: {'Customer': <genai_vanilla_agents.user.User object at 0x7fea9c5c8f10>, 'Planner': <genai_vanilla_agents.agent.Agent object at 0x7fea9c5baec0>, 'CRM': <genai_vanilla_agents.agent.Agent object at 0x7fea9c5caa70>, 'Funds': <genai_vanilla_agents.agent.Agent object at 0x7fea9c5c9ea0>, 'CIO': <genai_vanilla_agents.agent.Agent object at 0x7fea9c5bb460>, 'News': <genai_vanilla_agents.agent.Agent object at 0x7fea9c5c8a30>}\n"
     ]
    }
   ],
   "source": [
    "team_query_single = 'Provide me the portfolio positions of my client Pete Mitchell in a table format'\n",
    "team = create_group_chat_banking(team_query_single)"
   ]
  },
  {
   "cell_type": "code",
   "execution_count": null,
   "metadata": {},
   "outputs": [],
   "source": [
    "team_query_single = 'I understand that coverage applies for domestic destinations beyond 40km. If something happens on the way to the destination but within 40km, is it covered?'\n",
    "team = create_group_chat_insurance(team_query_single)"
   ]
  },
  {
   "cell_type": "markdown",
   "metadata": {},
   "source": [
    "### Multi Agent Collaboration from PlannedTeam"
   ]
  },
  {
   "cell_type": "code",
   "execution_count": null,
   "metadata": {},
   "outputs": [],
   "source": [
    "team_query_multiple = 'Provide me the portfolio positions of my client Pete Mitchell in a table format and for each of the position search for today relevant market news if any.'\n",
    "team = create_group_chat_banking(team_query_multiple)\n"
   ]
  },
  {
   "cell_type": "code",
   "execution_count": null,
   "metadata": {},
   "outputs": [],
   "source": [
    "workflow = Workflow(askable=team, conversation=[])\n",
    "workflow.run(team_query_single)\n",
    "\n",
    "\n",
    "print(f\"Plan = {team.plan}\")\n",
    "workflow.conversation.messages"
   ]
  },
  {
   "cell_type": "code",
   "execution_count": null,
   "metadata": {},
   "outputs": [],
   "source": [
    "team_query_single = 'I was referring to the Ztravel Plus policy'\n",
    "team = create_group_chat_insurance(team_query_single)\n",
    "\n",
    "workflow = Workflow(askable=team, conversation=[])\n",
    "workflow.run(team_query_single)\n",
    "\n",
    "\n",
    "print(f\"Plan = {team.plan}\")\n",
    "workflow.conversation.messages"
   ]
  },
  {
   "cell_type": "markdown",
   "metadata": {},
   "source": [
    "### Testing AM Research agents"
   ]
  },
  {
   "cell_type": "code",
   "execution_count": null,
   "metadata": {},
   "outputs": [],
   "source": [
    "\n",
    "from agents.fsi_am_research.group_chat import create_group_chat_am\n",
    "import logging\n",
    "# Set logging to debug for Agent, User, and Workflow\n",
    "logging.basicConfig(level=logging.WARN)\n",
    "logging.getLogger(\"genai_vanilla_agents.agent\").setLevel(logging.DEBUG)\n",
    "logging.getLogger(\"genai_vanilla_agents.team\").setLevel(logging.DEBUG)\n",
    "logging.getLogger(\"genai_vanilla_agents.user\").setLevel(logging.DEBUG)\n",
    "logging.getLogger(\"genai_vanilla_agents.workflow\").setLevel(logging.DEBUG)\n",
    "\n",
    "logging.getLogger(\"agents.fsi_am_research.group_chat\").setLevel(logging.DEBUG)\n",
    "\n",
    "input_email = \"\"\" \n",
    "Dear Alberto,\n",
    "\n",
    "InvestAgency ABC is pleased to provide an analysis and outlook on Microsoft Corporation (MSFT) following the recent Fiscal Year 2024 Q4 earnings report.\n",
    "\n",
    "Summary of Microsoft’s FY24 Q4 Performance:\n",
    "\n",
    "Microsoft closed its fiscal year with strong performance:\n",
    "\n",
    "Annual Revenue: Over $245 billion, a 15% year-over-year increase.\n",
    "Cloud Revenue: Reached $135 billion, growing by 23%.\n",
    "Key Drivers: The company emphasized growth driven by its Azure and AI offerings, which led to increased market share. Microsoft’s investments in global data centers and AI capabilities, including new accelerators from AMD, NVIDIA, and their own Azure Maia, highlight their commitment to long-term growth in this sector.\n",
    "CEO Satya Nadella and CFO Amy Hood also emphasized their focus on driving innovation across Microsoft's portfolio while managing costs strategically, with an eye on long-term profitability.\n",
    "\n",
    "Recommendation: Given Microsoft's robust growth in both revenue and strategic investments in AI and cloud infrastructure, we view MSFT as a strong asset to hold with potential for long-term appreciation. Its position in the AI-driven market and continued cloud dominance make it an attractive investment. For new investors, this stock could be a good buy for portfolio diversification.\n",
    "\n",
    "Best regards,\n",
    "InvestAgency ABC\n",
    "\"\"\"\n",
    "\n",
    "team_query_multiple = f\"\"\" \n",
    "Given the following email content as input {input_email}, create a summarized reccomendation for this stock or asset by performing: \n",
    "- a news and articles research, \n",
    "- a sentiment analysis on the stock or asset mentioned, \n",
    "- include in-house view from our CIO if any that are relevant to the stock or asset.\n",
    "\"\"\"\n",
    "team = create_group_chat_am(team_query_multiple)\n",
    "\n",
    "workflow = Workflow(askable=team, conversation=[])\n",
    "workflow.run(team_query_multiple)\n",
    "\n",
    "print(f\"Plan = {team.plan}\")\n",
    "workflow.conversation.messages\n",
    "\n"
   ]
  },
  {
   "cell_type": "markdown",
   "metadata": {},
   "source": [
    "### Testing banking Team chat for repetitive agents loops"
   ]
  },
  {
   "cell_type": "code",
   "execution_count": null,
   "metadata": {},
   "outputs": [],
   "source": [
    "history = []\n",
    "team_query_single = 'Show Pete Mitchell portfolio performance and suggest any rebalancing options based on recent CIO views.'\n",
    "team = create_group_chat_banking(team_query_single)\n",
    "\n",
    "workflow = Workflow(askable=team, conversation=[])\n",
    "workflow.run(team_query_single)\n",
    "\n",
    "workflow.conversation.messages"
   ]
  },
  {
   "cell_type": "code",
   "execution_count": 3,
   "metadata": {},
   "outputs": [],
   "source": [
    "history = workflow.conversation.messages\n",
    "history = history + workflow.conversation.messages\n",
    "#history"
   ]
  },
  {
   "cell_type": "code",
   "execution_count": null,
   "metadata": {},
   "outputs": [],
   "source": [
    "team_query_single = 'What are our CIO (Chief Investement Office) views on AI opportunities?'\n",
    "team = create_group_chat_banking(team_query_single)\n",
    "\n",
    "conv_history = Conversation(messages=history, variables={})\n",
    "workflow = Workflow(askable=team, conversation=conv_history)\n",
    "workflow.run(team_query_single)\n",
    "\n",
    "workflow.conversation.messages"
   ]
  },
  {
   "cell_type": "code",
   "execution_count": 5,
   "metadata": {},
   "outputs": [],
   "source": [
    "history = workflow.conversation.messages\n",
    "history = history + workflow.conversation.messages\n",
    "#history"
   ]
  },
  {
   "cell_type": "code",
   "execution_count": null,
   "metadata": {},
   "outputs": [],
   "source": [
    "team_query_single = 'Are there any relevant news today from the market about the positions on Pete portfolio?'\n",
    "team = create_group_chat_banking(team_query_single)\n",
    "\n",
    "conv_history = Conversation(messages=history, variables={})\n",
    "workflow = Workflow(askable=team, conversation=conv_history)\n",
    "workflow.run(team_query_single)\n",
    "\n",
    "workflow.conversation.messages"
   ]
  }
 ],
 "metadata": {
  "kernelspec": {
   "display_name": "Python 3",
   "language": "python",
   "name": "python3"
  },
  "language_info": {
   "codemirror_mode": {
    "name": "ipython",
    "version": 3
   },
   "file_extension": ".py",
   "mimetype": "text/x-python",
   "name": "python",
   "nbconvert_exporter": "python",
   "pygments_lexer": "ipython3",
   "version": "3.10.12"
  }
 },
 "nbformat": 4,
 "nbformat_minor": 2
}
