{
 "cells": [
  {
   "cell_type": "code",
   "execution_count": 3,
   "metadata": {},
   "outputs": [
    {
     "ename": "ModuleNotFoundError",
     "evalue": "No module named 'sk'",
     "output_type": "error",
     "traceback": [
      "\u001b[0;31m---------------------------------------------------------------------------\u001b[0m",
      "\u001b[0;31mModuleNotFoundError\u001b[0m                       Traceback (most recent call last)",
      "Cell \u001b[0;32mIn[3], line 23\u001b[0m\n\u001b[1;32m      7\u001b[0m \u001b[38;5;28;01mfrom\u001b[39;00m \u001b[38;5;21;01mazure\u001b[39;00m\u001b[38;5;21;01m.\u001b[39;00m\u001b[38;5;21;01midentity\u001b[39;00m \u001b[38;5;28;01mimport\u001b[39;00m DefaultAzureCredential\n\u001b[1;32m      8\u001b[0m \u001b[38;5;66;03m# from semantic_kernel.contents.chat_message_content import ChatMessageContent\u001b[39;00m\n\u001b[1;32m      9\u001b[0m \u001b[38;5;66;03m# from semantic_kernel.contents.utils.author_role import AuthorRole\u001b[39;00m\n\u001b[1;32m     10\u001b[0m \u001b[38;5;66;03m# from semantic_kernel.agents import AgentGroupChat\u001b[39;00m\n\u001b[0;32m   (...)\u001b[0m\n\u001b[1;32m     20\u001b[0m \u001b[38;5;66;03m# else:\u001b[39;00m\n\u001b[1;32m     21\u001b[0m \u001b[38;5;66;03m#     print(f\"{parent_dir} is already in sys.path\")\u001b[39;00m\n\u001b[0;32m---> 23\u001b[0m \u001b[38;5;28;01mfrom\u001b[39;00m \u001b[38;5;21;01mbackend\u001b[39;00m\u001b[38;5;21;01m.\u001b[39;00m\u001b[38;5;21;01msk\u001b[39;00m\u001b[38;5;21;01m.\u001b[39;00m\u001b[38;5;21;01mhandler\u001b[39;00m \u001b[38;5;28;01mimport\u001b[39;00m SemanticKernelHandler\n\u001b[1;32m     24\u001b[0m \u001b[38;5;28;01mfrom\u001b[39;00m \u001b[38;5;21;01mbackend\u001b[39;00m\u001b[38;5;21;01m.\u001b[39;00m\u001b[38;5;21;01mconversation_store\u001b[39;00m \u001b[38;5;28;01mimport\u001b[39;00m ConversationStore\n\u001b[1;32m     27\u001b[0m load_dotenv(override\u001b[38;5;241m=\u001b[39m\u001b[38;5;28;01mTrue\u001b[39;00m)\n",
      "File \u001b[0;32m~/prj/70-agentic/01.moneta/aoai-fsi-empowering-advisory-agentic/src/backend/sk/handler.py:19\u001b[0m\n\u001b[1;32m     16\u001b[0m \u001b[38;5;28;01mfrom\u001b[39;00m \u001b[38;5;21;01msemantic_kernel\u001b[39;00m\u001b[38;5;21;01m.\u001b[39;00m\u001b[38;5;21;01mkernel\u001b[39;00m \u001b[38;5;28;01mimport\u001b[39;00m Kernel\n\u001b[1;32m     17\u001b[0m \u001b[38;5;28;01mfrom\u001b[39;00m \u001b[38;5;21;01msemantic_kernel\u001b[39;00m\u001b[38;5;21;01m.\u001b[39;00m\u001b[38;5;21;01mfunctions\u001b[39;00m \u001b[38;5;28;01mimport\u001b[39;00m KernelPlugin, KernelFunctionFromPrompt\n\u001b[0;32m---> 19\u001b[0m \u001b[38;5;28;01mfrom\u001b[39;00m \u001b[38;5;21;01msk\u001b[39;00m\u001b[38;5;21;01m.\u001b[39;00m\u001b[38;5;21;01mskills\u001b[39;00m\u001b[38;5;21;01m.\u001b[39;00m\u001b[38;5;21;01mcrm_facade\u001b[39;00m \u001b[38;5;28;01mimport\u001b[39;00m CRMFacade\n\u001b[1;32m     20\u001b[0m \u001b[38;5;28;01mfrom\u001b[39;00m \u001b[38;5;21;01msk\u001b[39;00m\u001b[38;5;21;01m.\u001b[39;00m\u001b[38;5;21;01mskills\u001b[39;00m\u001b[38;5;21;01m.\u001b[39;00m\u001b[38;5;21;01mproduct_facade\u001b[39;00m \u001b[38;5;28;01mimport\u001b[39;00m ProductFacade\n\u001b[1;32m     21\u001b[0m \u001b[38;5;28;01mfrom\u001b[39;00m \u001b[38;5;21;01mconversation_store\u001b[39;00m \u001b[38;5;28;01mimport\u001b[39;00m ConversationStore\n",
      "\u001b[0;31mModuleNotFoundError\u001b[0m: No module named 'sk'"
     ]
    }
   ],
   "source": [
    "import json\n",
    "import time\n",
    "import sys\n",
    "import os\n",
    "import logging\n",
    "from dotenv import load_dotenv\n",
    "from azure.identity import DefaultAzureCredential\n",
    "# from semantic_kernel.contents.chat_message_content import ChatMessageContent\n",
    "# from semantic_kernel.contents.utils.author_role import AuthorRole\n",
    "# from semantic_kernel.agents import AgentGroupChat\n",
    "# from semantic_kernel.utils.logging import setup_logging\n",
    "\n",
    "# from semantic_kernel.contents.chat_history import ChatHistory\n",
    "# from semantic_kernel.contents.chat_message_content import ChatMessageContent\n",
    "\n",
    "# parent_dir = os.path.abspath(os.path.join(os.getcwd(), '..'))\n",
    "# if parent_dir not in sys.path:\n",
    "#     sys.path.insert(0, parent_dir)  # Insert at the beginning for priority\n",
    "#     print(f\"Added {parent_dir} to sys.path\")\n",
    "# else:\n",
    "#     print(f\"{parent_dir} is already in sys.path\")\n",
    "\n",
    "from backend.sk.handler import SemanticKernelHandler\n",
    "from backend.conversation_store import ConversationStore\n",
    "\n",
    "\n",
    "load_dotenv(override=True)\n"
   ]
  },
  {
   "cell_type": "code",
   "execution_count": 2,
   "metadata": {},
   "outputs": [],
   "source": [
    "setup_logging()\n",
    "\n",
    "logger = logging.getLogger(\"semantic_kernel\")\n",
    "logger.setLevel(logging.DEBUG)\n",
    "\n",
    "decorator = logging.getLogger(\"semantic_kernel.functions.kernel_function_decorator\")\n",
    "decorator.setLevel(logging.INFO)\n",
    "\n",
    "handler = logging.getLogger(\"semantic_kernel_handler\")\n",
    "handler.setLevel(logging.DEBUG)\n",
    "\n",
    "logging.info('Logging set')  # will not print anything"
   ]
  },
  {
   "cell_type": "code",
   "execution_count": 3,
   "metadata": {},
   "outputs": [],
   "source": [
    "key = DefaultAzureCredential()\n",
    "\n",
    "db = ConversationStore(\n",
    "        url=os.getenv(\"COSMOSDB_ENDPOINT\"),\n",
    "        key=key,\n",
    "        database_name=os.getenv(\"COSMOSDB_DATABASE_NAME\"),\n",
    "        container_name=os.getenv(\"COSMOSDB_CONTAINER_FSI_INS_USER_NAME\"),\n",
    "    )"
   ]
  },
  {
   "cell_type": "code",
   "execution_count": 6,
   "metadata": {},
   "outputs": [],
   "source": [
    "sk = SemanticKernelHandler(db)"
   ]
  },
  {
   "cell_type": "code",
   "execution_count": 5,
   "metadata": {},
   "outputs": [
    {
     "name": "stdout",
     "output_type": "stream",
     "text": [
      "{'id': 'sk_test_ins_4', '_rid': '4cJyAPnaCHoFAAAAAAAAAA==', '_self': 'dbs/4cJyAA==/colls/4cJyAPnaCHo=/docs/4cJyAPnaCHoFAAAAAAAAAA==/', '_etag': '\"1900b37d-0000-0800-0000-67574d830000\"', '_attachments': 'attachments/', '_ts': 1733774723}\n"
     ]
    }
   ],
   "source": [
    "user_data = db.read_user_info('sk_test_ins_4')\n",
    "# user_data = db.create_user('sk_test_ins_4',{})\n",
    "# res = await sk.handle_request(user_id='sk_test_ins_1',load_history=True, chat_id='', user_message='',usecase_type='',user_data=[])\n",
    "# user_data = res['data']\n",
    "print(user_data)"
   ]
  },
  {
   "cell_type": "code",
   "execution_count": 8,
   "metadata": {},
   "outputs": [
    {
     "name": "stderr",
     "output_type": "stream",
     "text": [
      "[2024-12-06 21:56:35 - semantic_kernel.prompt_template.kernel_prompt_template:68 - DEBUG] Extracting blocks from template: \n",
      "                    You are the next speaker selector.\n",
      "\n",
      "                    - You MUST return ONLY agent name from the list of available agents below.\n",
      "                    - You MUST return the agent name and nothing else.\n",
      "                    - Check the history, if any, and decide WHAT agent is the best next speaker\n",
      "                    - The names are case-sensitive and should not be abbreviated or changed.\n",
      "                    - YOU MUST OBSERVE AGENT USAGE INSTRUCTIONS.\n",
      "\n",
      "# AVAILABLE AGENTS\n",
      "\n",
      "Query: Agent processes the user request by calling external data sources\n",
      "Summariser: The agent that summarises a final response to the user's original inquiry by collecting responses from the OTHER agents\n",
      "\n",
      "# CHAT HISTORY\n",
      "\n",
      "{{$history}}\n",
      "\n",
      "[2024-12-06 21:56:35 - semantic_kernel.agents.group_chat.agent_chat:112 - INFO] Adding `5` agent chat messages\n",
      "[2024-12-06 21:56:35 - semantic_kernel.agents.strategies.selection.kernel_function_selection_strategy:73 - INFO] Kernel Function Selection Strategy next method called, invoking function: , selection\n",
      "[2024-12-06 21:56:35 - semantic_kernel.functions.kernel_function:19 - INFO] Function selection invoking.\n",
      "[2024-12-06 21:56:35 - semantic_kernel.functions.kernel_function:24 - DEBUG] Function arguments: {'agents': 'Query,Summariser', 'history': [{'role': 'user', 'content': 'Provide me the policies of my client John Doe in a table format', 'name': 'user'}, {'role': 'assistant', 'content': 'Here are the policies for the client John Doe:\\n\\n| Policy No | Basic Plan Product | Product Type               | Policy Status | Effective Date         | Expiry Date            | Overseas Medical Expenses | Follow up Treatment in Malaysia | Alternative Medicine | Overseas Hospital Income | Child Care Benefit | Compassionate Visit | Emergency Medical Evacuation | Medical Repatriation | Repatriation of Mortal Remains |\\n|-----------|--------------------|----------------------------|---------------|------------------------|------------------------|---------------------------|-------------------------------|----------------------|--------------------------|-------------------|---------------------|-----------------------------|----------------------|-------------------------------|\\n| 0         | P230ZII            | Ztravel International      | A             | 2024-06-18             | 2024-07-13             | 500000                    | 50000.0                       | 500.0                | 15000.0                  | 10000.0           | 10000.0             | Unlimited                   | Unlimited            | Unlimited                       |\\n| 1         | P230ZII            | Ztravel International Plus | A             | 2024-06-18             | 2024-07-13             | 500000                    | 50000.0                       | 5000.0               | 15000.0                  | 100000.0          | 10000.0             | Unlimited                   | Unlimited            | Unlimited                       |\\n| 2         | P045PSI            | Personal Accident          | A             | 2018-08-15             | 2019-08-14             | 500000                    | 500000.0                      | 5000.0               | 150000.0                 | 100000.0          | 100000.0            | Unlimited                   | Unlimited            | Unlimited                       |', 'name': 'Summariser'}, {'role': 'user', 'content': 'Provide me the policies of my client John Doe in a table format', 'name': 'user'}, {'role': 'assistant', 'content': 'Here are the policies for the client John Doe:\\n\\n| Policy No | Basic Plan Product | Product Type               | Policy Status | Effective Date         | Expiry Date            | Overseas Medical Expenses | Follow up Treatment in Malaysia | Alternative Medicine | Overseas Hospital Income | Child Care Benefit | Compassionate Visit | Emergency Medical Evacuation | Medical Repatriation | Repatriation of Mortal Remains |\\n|-----------|--------------------|----------------------------|---------------|------------------------|------------------------|---------------------------|-------------------------------|----------------------|--------------------------|-------------------|---------------------|-----------------------------|----------------------|-------------------------------|\\n| 0         | P230ZII            | Ztravel International      | A             | 2024-06-18             | 2024-07-13             | 500000                    | 50000.0                       | 500.0                | 15000.0                  | 10000.0           | 10000.0             | Unlimited                   | Unlimited            | Unlimited                       |\\n| 1         | P230ZII            | Ztravel International Plus | A             | 2024-06-18             | 2024-07-13             | 500000                    | 50000.0                       | 5000.0               | 15000.0                  | 100000.0          | 10000.0             | Unlimited                   | Unlimited            | Unlimited                       |\\n| 2         | P045PSI            | Personal Accident          | A             | 2018-08-15             | 2019-08-14             | 500000                    | 500000.0                      | 5000.0               | 150000.0                 | 100000.0          | 100000.0            | Unlimited                   | Unlimited            | Unlimited                       |', 'name': 'Summariser'}, {'role': 'user', 'content': 'Provide me the policies of my client John Doe in a table format', 'name': 'user'}]}\n",
      "[2024-12-06 21:56:35 - semantic_kernel.prompt_template.kernel_prompt_template:113 - DEBUG] Rendering list of 3 blocks\n",
      "[2024-12-06 21:56:35 - semantic_kernel.prompt_template.kernel_prompt_template:129 - DEBUG] Rendered prompt: \n",
      "                    You are the next speaker selector.\n",
      "\n",
      "                    - You MUST return ONLY agent name from the list of available agents below.\n",
      "                    - You MUST return the agent name and nothing else.\n",
      "                    - Check the history, if any, and decide WHAT agent is the best next speaker\n",
      "                    - The names are case-sensitive and should not be abbreviated or changed.\n",
      "                    - YOU MUST OBSERVE AGENT USAGE INSTRUCTIONS.\n",
      "\n",
      "# AVAILABLE AGENTS\n",
      "\n",
      "Query: Agent processes the user request by calling external data sources\n",
      "Summariser: The agent that summarises a final response to the user's original inquiry by collecting responses from the OTHER agents\n",
      "\n",
      "# CHAT HISTORY\n",
      "\n",
      "[{'role': 'user', 'content': 'Provide me the policies of my client John Doe in a table format', 'name': 'user'}, {'role': 'assistant', 'content': 'Here are the policies for the client John Doe:\\n\\n| Policy No | Basic Plan Product | Product Type               | Policy Status | Effective Date         | Expiry Date            | Overseas Medical Expenses | Follow up Treatment in Malaysia | Alternative Medicine | Overseas Hospital Income | Child Care Benefit | Compassionate Visit | Emergency Medical Evacuation | Medical Repatriation | Repatriation of Mortal Remains |\\n|-----------|--------------------|----------------------------|---------------|------------------------|------------------------|---------------------------|-------------------------------|----------------------|--------------------------|-------------------|---------------------|-----------------------------|----------------------|-------------------------------|\\n| 0         | P230ZII            | Ztravel International      | A             | 2024-06-18             | 2024-07-13             | 500000                    | 50000.0                       | 500.0                | 15000.0                  | 10000.0           | 10000.0             | Unlimited                   | Unlimited            | Unlimited                       |\\n| 1         | P230ZII            | Ztravel International Plus | A             | 2024-06-18             | 2024-07-13             | 500000                    | 50000.0                       | 5000.0               | 15000.0                  | 100000.0          | 10000.0             | Unlimited                   | Unlimited            | Unlimited                       |\\n| 2         | P045PSI            | Personal Accident          | A             | 2018-08-15             | 2019-08-14             | 500000                    | 500000.0                      | 5000.0               | 150000.0                 | 100000.0          | 100000.0            | Unlimited                   | Unlimited            | Unlimited                       |', 'name': 'Summariser'}, {'role': 'user', 'content': 'Provide me the policies of my client John Doe in a table format', 'name': 'user'}, {'role': 'assistant', 'content': 'Here are the policies for the client John Doe:\\n\\n| Policy No | Basic Plan Product | Product Type               | Policy Status | Effective Date         | Expiry Date            | Overseas Medical Expenses | Follow up Treatment in Malaysia | Alternative Medicine | Overseas Hospital Income | Child Care Benefit | Compassionate Visit | Emergency Medical Evacuation | Medical Repatriation | Repatriation of Mortal Remains |\\n|-----------|--------------------|----------------------------|---------------|------------------------|------------------------|---------------------------|-------------------------------|----------------------|--------------------------|-------------------|---------------------|-----------------------------|----------------------|-------------------------------|\\n| 0         | P230ZII            | Ztravel International      | A             | 2024-06-18             | 2024-07-13             | 500000                    | 50000.0                       | 500.0                | 15000.0                  | 10000.0           | 10000.0             | Unlimited                   | Unlimited            | Unlimited                       |\\n| 1         | P230ZII            | Ztravel International Plus | A             | 2024-06-18             | 2024-07-13             | 500000                    | 50000.0                       | 5000.0               | 15000.0                  | 100000.0          | 10000.0             | Unlimited                   | Unlimited            | Unlimited                       |\\n| 2         | P045PSI            | Personal Accident          | A             | 2018-08-15             | 2019-08-14             | 500000                    | 500000.0                      | 5000.0               | 150000.0                 | 100000.0          | 100000.0            | Unlimited                   | Unlimited            | Unlimited                       |', 'name': 'Summariser'}, {'role': 'user', 'content': 'Provide me the policies of my client John Doe in a table format', 'name': 'user'}]\n",
      "\n",
      "[2024-12-06 21:56:35 - semantic_kernel.connectors.ai.open_ai.services.open_ai_handler:194 - INFO] OpenAI usage: CompletionUsage(completion_tokens=3, prompt_tokens=1038, total_tokens=1041, completion_tokens_details=None, prompt_tokens_details=None)\n",
      "[2024-12-06 21:56:35 - semantic_kernel.functions.kernel_function:29 - INFO] Function selection succeeded.\n",
      "[2024-12-06 21:56:35 - semantic_kernel.functions.kernel_function:39 - DEBUG] Function result: Summariser\n",
      "[2024-12-06 21:56:35 - semantic_kernel.functions.kernel_function:53 - INFO] Function completed. Duration: 0.449891s\n",
      "[2024-12-06 21:56:35 - semantic_kernel.agents.strategies.selection.kernel_function_selection_strategy:84 - INFO] Kernel Function Selection Strategy next method completed: , selection, result: [ChatMessageContent(inner_content=ChatCompletion(id='chatcmpl-AbZfH8HflhsW6p4UFYQrVls2jK5eh', choices=[Choice(finish_reason='stop', index=0, logprobs=None, message=ChatCompletionMessage(content='Summariser', refusal=None, role='assistant', audio=None, function_call=None, tool_calls=None), content_filter_results={'hate': {'filtered': False, 'severity': 'safe'}, 'protected_material_code': {'filtered': False, 'detected': False}, 'protected_material_text': {'filtered': False, 'detected': False}, 'self_harm': {'filtered': False, 'severity': 'safe'}, 'sexual': {'filtered': False, 'severity': 'safe'}, 'violence': {'filtered': False, 'severity': 'safe'}})], created=1733518595, model='gpt-4o-2024-05-13', object='chat.completion', service_tier=None, system_fingerprint='fp_04751d0b65', usage=CompletionUsage(completion_tokens=3, prompt_tokens=1038, total_tokens=1041, completion_tokens_details=None, prompt_tokens_details=None), prompt_filter_results=[{'prompt_index': 0, 'content_filter_results': {'hate': {'filtered': False, 'severity': 'safe'}, 'jailbreak': {'filtered': False, 'detected': False}, 'self_harm': {'filtered': False, 'severity': 'safe'}, 'sexual': {'filtered': False, 'severity': 'safe'}, 'violence': {'filtered': False, 'severity': 'safe'}}}]), ai_model_id='gpt-4o-2024-05-13', metadata={'logprobs': None, 'id': 'chatcmpl-AbZfH8HflhsW6p4UFYQrVls2jK5eh', 'created': 1733518595, 'system_fingerprint': 'fp_04751d0b65', 'usage': CompletionUsage(prompt_tokens=1038, completion_tokens=3)}, content_type='message', role=<AuthorRole.ASSISTANT: 'assistant'>, name=None, items=[TextContent(inner_content=None, ai_model_id=None, metadata={}, content_type='text', text='Summariser', encoding=None)], encoding=None, finish_reason=<FinishReason.STOP: 'stop'>)]\n",
      "[2024-12-06 21:56:35 - semantic_kernel.agents.group_chat.agent_chat:139 - INFO] Invoking agent Summariser\n",
      "[2024-12-06 21:56:35 - semantic_kernel.agents.chat_completion.chat_completion_agent:109 - DEBUG] [ChatCompletionAgent] Invoking AzureChatCompletion.\n",
      "[2024-12-06 21:56:36 - semantic_kernel.connectors.ai.open_ai.services.open_ai_handler:194 - INFO] OpenAI usage: CompletionUsage(completion_tokens=23, prompt_tokens=1031, total_tokens=1054, completion_tokens_details=None, prompt_tokens_details=None)\n",
      "[2024-12-06 21:56:36 - semantic_kernel.connectors.ai.chat_completion_client_base:149 - INFO] processing 1 tool calls in parallel.\n",
      "[2024-12-06 21:56:36 - semantic_kernel.kernel:383 - INFO] Calling crm-load_from_crm_by_client_fullname function with args: {\"full_name\":\"John Doe\"}\n",
      "[2024-12-06 21:56:36 - semantic_kernel.functions.kernel_function:19 - INFO] Function crm-load_from_crm_by_client_fullname invoking.\n",
      "[2024-12-06 21:56:36 - semantic_kernel.functions.kernel_function:24 - DEBUG] Function arguments: {'full_name': 'John Doe'}\n",
      "[2024-12-06 21:56:36 - semantic_kernel.functions.kernel_function:29 - INFO] Function crm-load_from_crm_by_client_fullname succeeded.\n",
      "[2024-12-06 21:56:36 - semantic_kernel.functions.kernel_function:39 - DEBUG] Function result: {\"id\": \"987654321\", \"clientID\": \"987654321\", \"firstName\": \"John\", \"lastName\": \"Doe\", \"fullName\": \"John Doe\", \"dateOfBirth\": \"1980-01-01\", \"nationality\": \"Malaysia\", \"contactDetails\": {\"email\": \"john.doe@example.com\", \"phone\": \"123-456-7890\"}, \"address\": {\"street\": \"123 Main St\", \"city\": \"New York\", \"state\": \"NY\", \"postalCode\": \"12345\", \"country\": \"USA\"}, \"policies\": [{\"PolicyNo\": \"0\", \"BasicPlanProduct\": \"P230ZII\", \"ProductType\": \"Ztravel International\", \"PolicyStatus\": \"A\", \"EffectiveDate\": \"2024-06-18 00:00:00.000\", \"ExpiryDate\": \"2024-07-13 00:00:00.000\", \"Overseas Medical Expenses\": \"500000\", \"Follow up Treatment in Malaysia\": \"50000.0\", \"Alternative Medicine\": \"500.0\", \"Overseas Hospital Income\": \"15000.0\", \"Child Care Benefit\": \"10000.0\", \"Compassionate Visit\": \"10000.0\", \"Emergency Medical Evacuation\": \"Unlimited\", \"Medical Repatriation\": \"Unlimited\", \"Repatriation of Mortal Remains\": \"Unlimited\"}, {\"PolicyNo\": \"1\", \"BasicPlanProduct\": \"P230ZII\", \"ProductType\": \"Ztravel International Plus\", \"PolicyStatus\": \"A\", \"EffectiveDate\": \"2024-06-18 00:00:00.000\", \"ExpiryDate\": \"2024-07-13 00:00:00.000\", \"Overseas Medical Expenses\": \"500000\", \"Follow up Treatment in Malaysia\": \"50000.0\", \"Alternative Medicine\": \"5000.0\", \"Overseas Hospital Income\": \"15000.0\", \"Child Care Benefit\": \"100000.0\", \"Compassionate Visit\": \"10000.0\", \"Emergency Medical Evacuation\": \"Unlimited\", \"Medical Repatriation\": \"Unlimited\", \"Repatriation of Mortal Remains\": \"Unlimited\"}, {\"PolicyNo\": \"2\", \"BasicPlanProduct\": \"P045PSI\", \"ProductType\": \"Personal Accident\", \"PolicyStatus\": \"A\", \"EffectiveDate\": \"2018-08-15 00:00:00.000\", \"ExpiryDate\": \"2019-08-14 00:00:00.000\", \"Overseas Medical Expenses\": \"500000\", \"Follow up Treatment in Malaysia\": \"500000.0\", \"Alternative Medicine\": \"5000.0\", \"Overseas Hospital Income\": \"150000.0\", \"Child Care Benefit\": \"100000.0\", \"Compassionate Visit\": \"100000.0\", \"Emergency Medical Evacuation\": \"Unlimited\", \"Medical Repatriation\": \"Unlimited\", \"Repatriation of Mortal Remains\": \"Unlimited\"}], \"_rid\": \"4cJyAP3fZv4BAAAAAAAAAA==\", \"_self\": \"dbs/4cJyAA==/colls/4cJyAP3fZv4=/docs/4cJyAP3fZv4BAAAAAAAAAA==/\", \"_etag\": \"\\\"8800cae1-0000-0800-0000-6750bf640000\\\"\", \"_attachments\": \"attachments/\", \"_ts\": 1733345124}\n",
      "[2024-12-06 21:56:36 - semantic_kernel.functions.kernel_function:53 - INFO] Function completed. Duration: 0.404092s\n",
      "[2024-12-06 21:56:40 - semantic_kernel.connectors.ai.open_ai.services.open_ai_handler:194 - INFO] OpenAI usage: CompletionUsage(completion_tokens=381, prompt_tokens=1823, total_tokens=2204, completion_tokens_details=None, prompt_tokens_details=None)\n",
      "[2024-12-06 21:56:40 - semantic_kernel.agents.chat_completion.chat_completion_agent:117 - INFO] [ChatCompletionAgent] Invoked AzureChatCompletion with message count: 6.\n",
      "[2024-12-06 21:56:40 - semantic_kernel.agents.strategies.termination.termination_strategy:48 - INFO] Evaluating termination criteria for 275eb313-062f-43ac-be9c-9605f3b547ea\n",
      "[2024-12-06 21:56:40 - semantic_kernel.agents.strategies.termination.termination_strategy:56 - INFO] Evaluated criteria for 275eb313-062f-43ac-be9c-9605f3b547ea, should terminate: True\n",
      "[2024-12-06 21:56:40 - semantic_kernel.agents.group_chat.agent_chat:67 - INFO] Getting chat messages\n"
     ]
    },
    {
     "data": {
      "text/plain": [
       "{'status_code': 200,\n",
       " 'chat_id': '20241206_688',\n",
       " 'reply': {'role': 'assistant',\n",
       "  'name': 'Summariser',\n",
       "  'content': 'Here are the policies for the client John Doe:\\n\\n| Policy No | Basic Plan Product | Product Type               | Policy Status | Effective Date         | Expiry Date            | Overseas Medical Expenses | Follow up Treatment in Malaysia | Alternative Medicine | Overseas Hospital Income | Child Care Benefit | Compassionate Visit | Emergency Medical Evacuation | Medical Repatriation | Repatriation of Mortal Remains |\\n|-----------|--------------------|----------------------------|---------------|------------------------|------------------------|---------------------------|-------------------------------|----------------------|--------------------------|-------------------|---------------------|-----------------------------|----------------------|-------------------------------|\\n| 0         | P230ZII            | Ztravel International      | A             | 2024-06-18             | 2024-07-13             | 500000                    | 50000.0                       | 500.0                | 15000.0                  | 10000.0           | 10000.0             | Unlimited                   | Unlimited            | Unlimited                       |\\n| 1         | P230ZII            | Ztravel International Plus | A             | 2024-06-18             | 2024-07-13             | 500000                    | 50000.0                       | 5000.0               | 15000.0                  | 100000.0          | 10000.0             | Unlimited                   | Unlimited            | Unlimited                       |\\n| 2         | P045PSI            | Personal Accident          | A             | 2018-08-15             | 2019-08-14             | 500000                    | 500000.0                      | 5000.0               | 150000.0                 | 100000.0          | 100000.0            | Unlimited                   | Unlimited            | Unlimited                       |'}}"
      ]
     },
     "execution_count": 8,
     "metadata": {},
     "output_type": "execute_result"
    }
   ],
   "source": [
    "# await sk.handle_request(user_id='sk_test_ins_1',load_history=False, chat_id='20241016_898', user_message='',usecase_type='',user_data=user_data)\n",
    "# res = await sk.handle_request(user_id='sk_test_ins_1',load_history=False, chat_id=None, user_message='',usecase_type='',user_data=user_data)\n",
    "# await sk.handle_request(user_id='sk_test_ins_3',load_history=False, chat_id=None, user_message='Provide me the policies of my client John Doe in a table format',usecase_type='',user_data=user_data)\n",
    "await sk.handle_request(user_id='sk_test_ins_3',load_history=False, chat_id='20241206_688', user_message='Provide me the policies of my client John Doe in a table format',usecase_type='',user_data=user_data)"
   ]
  },
  {
   "cell_type": "markdown",
   "metadata": {},
   "source": [
    "### SK Agent Group Chat - Single Agent / multi skill test - no history single shot"
   ]
  },
  {
   "cell_type": "code",
   "execution_count": null,
   "metadata": {},
   "outputs": [
    {
     "name": "stderr",
     "output_type": "stream",
     "text": [
      "[2024-12-06 02:25:25 - semantic_kernel.prompt_template.kernel_prompt_template:68 - DEBUG] Extracting blocks from template: \n",
      "                    You are the next speaker selector.\n",
      "\n",
      "                    - You MUST return ONLY agent name from the list of available agents below.\n",
      "                    - You MUST return the agent name and nothing else.\n",
      "                    - Check the history, if any, and decide WHAT agent is the best next speaker\n",
      "                    - The names are case-sensitive and should not be abbreviated or changed.\n",
      "                    - YOU MUST OBSERVE AGENT USAGE INSTRUCTIONS.\n",
      "\n",
      "# AVAILABLE AGENTS\n",
      "\n",
      "Query: Agent processes the user request by calling external data sources\n",
      "Summariser: The agent that summarises a final response to the user's original inquiry by collecting responses from the OTHER agents\n",
      "\n",
      "# CHAT HISTORY\n",
      "\n",
      "{{$history}}\n",
      "                    \n",
      "[2024-12-06 02:25:25 - semantic_kernel.agents.group_chat.agent_chat:112 - INFO] Adding `1` agent chat messages\n",
      "[2024-12-06 02:25:25 - semantic_kernel.agents.strategies.selection.kernel_function_selection_strategy:73 - INFO] Kernel Function Selection Strategy next method called, invoking function: , selection\n",
      "[2024-12-06 02:25:25 - semantic_kernel.functions.kernel_function:19 - INFO] Function selection invoking.\n",
      "[2024-12-06 02:25:25 - semantic_kernel.functions.kernel_function:24 - DEBUG] Function arguments: {'agents': 'Query,Summariser', 'history': [{'role': 'user', 'content': 'Provide me the policies of my client John Doe in a table format'}]}\n",
      "[2024-12-06 02:25:25 - semantic_kernel.prompt_template.kernel_prompt_template:113 - DEBUG] Rendering list of 3 blocks\n",
      "[2024-12-06 02:25:25 - semantic_kernel.prompt_template.kernel_prompt_template:129 - DEBUG] Rendered prompt: \n",
      "                    You are the next speaker selector.\n",
      "\n",
      "                    - You MUST return ONLY agent name from the list of available agents below.\n",
      "                    - You MUST return the agent name and nothing else.\n",
      "                    - Check the history, if any, and decide WHAT agent is the best next speaker\n",
      "                    - The names are case-sensitive and should not be abbreviated or changed.\n",
      "                    - YOU MUST OBSERVE AGENT USAGE INSTRUCTIONS.\n",
      "\n",
      "# AVAILABLE AGENTS\n",
      "\n",
      "Query: Agent processes the user request by calling external data sources\n",
      "Summariser: The agent that summarises a final response to the user's original inquiry by collecting responses from the OTHER agents\n",
      "\n",
      "# CHAT HISTORY\n",
      "\n",
      "[{'role': 'user', 'content': 'Provide me the policies of my client John Doe in a table format'}]\n",
      "                    \n",
      "[2024-12-06 02:25:25 - semantic_kernel.connectors.ai.open_ai.services.open_ai_handler:194 - INFO] OpenAI usage: CompletionUsage(completion_tokens=1, prompt_tokens=162, total_tokens=163, completion_tokens_details=None, prompt_tokens_details=None)\n",
      "[2024-12-06 02:25:25 - semantic_kernel.functions.kernel_function:29 - INFO] Function selection succeeded.\n",
      "[2024-12-06 02:25:25 - semantic_kernel.functions.kernel_function:39 - DEBUG] Function result: Query\n",
      "[2024-12-06 02:25:25 - semantic_kernel.functions.kernel_function:53 - INFO] Function completed. Duration: 0.413743s\n",
      "[2024-12-06 02:25:25 - semantic_kernel.agents.strategies.selection.kernel_function_selection_strategy:84 - INFO] Kernel Function Selection Strategy next method completed: , selection, result: [ChatMessageContent(inner_content=ChatCompletion(id='chatcmpl-AbHNtJzvCNdPe0oNRZnVFMNxbYtgo', choices=[Choice(finish_reason='stop', index=0, logprobs=None, message=ChatCompletionMessage(content='Query', refusal=None, role='assistant', audio=None, function_call=None, tool_calls=None), content_filter_results={'hate': {'filtered': False, 'severity': 'safe'}, 'protected_material_code': {'filtered': False, 'detected': False}, 'protected_material_text': {'filtered': False, 'detected': False}, 'self_harm': {'filtered': False, 'severity': 'safe'}, 'sexual': {'filtered': False, 'severity': 'safe'}, 'violence': {'filtered': False, 'severity': 'safe'}})], created=1733448325, model='gpt-4o-2024-05-13', object='chat.completion', service_tier=None, system_fingerprint='fp_04751d0b65', usage=CompletionUsage(completion_tokens=1, prompt_tokens=162, total_tokens=163, completion_tokens_details=None, prompt_tokens_details=None), prompt_filter_results=[{'prompt_index': 0, 'content_filter_results': {'hate': {'filtered': False, 'severity': 'safe'}, 'jailbreak': {'filtered': False, 'detected': False}, 'self_harm': {'filtered': False, 'severity': 'safe'}, 'sexual': {'filtered': False, 'severity': 'safe'}, 'violence': {'filtered': False, 'severity': 'safe'}}}]), ai_model_id='gpt-4o-2024-05-13', metadata={'logprobs': None, 'id': 'chatcmpl-AbHNtJzvCNdPe0oNRZnVFMNxbYtgo', 'created': 1733448325, 'system_fingerprint': 'fp_04751d0b65', 'usage': CompletionUsage(prompt_tokens=162, completion_tokens=1)}, content_type='message', role=<AuthorRole.ASSISTANT: 'assistant'>, name=None, items=[TextContent(inner_content=None, ai_model_id=None, metadata={}, content_type='text', text='Query', encoding=None)], encoding=None, finish_reason=<FinishReason.STOP: 'stop'>)]\n",
      "[2024-12-06 02:25:25 - semantic_kernel.agents.group_chat.agent_chat:139 - INFO] Invoking agent Query\n",
      "[2024-12-06 02:25:25 - semantic_kernel.agents.chat_completion.chat_completion_agent:109 - DEBUG] [ChatCompletionAgent] Invoking AzureChatCompletion.\n",
      "[2024-12-06 02:25:27 - semantic_kernel.connectors.ai.open_ai.services.open_ai_handler:194 - INFO] OpenAI usage: CompletionUsage(completion_tokens=23, prompt_tokens=407, total_tokens=430, completion_tokens_details=None, prompt_tokens_details=None)\n",
      "[2024-12-06 02:25:27 - semantic_kernel.connectors.ai.chat_completion_client_base:149 - INFO] processing 1 tool calls in parallel.\n",
      "[2024-12-06 02:25:27 - semantic_kernel.kernel:383 - INFO] Calling crm-load_from_crm_by_client_fullname function with args: {\"full_name\":\"John Doe\"}\n",
      "[2024-12-06 02:25:27 - semantic_kernel.functions.kernel_function:19 - INFO] Function crm-load_from_crm_by_client_fullname invoking.\n",
      "[2024-12-06 02:25:27 - semantic_kernel.functions.kernel_function:24 - DEBUG] Function arguments: {'full_name': 'John Doe'}\n",
      "[2024-12-06 02:25:27 - semantic_kernel.functions.kernel_function:29 - INFO] Function crm-load_from_crm_by_client_fullname succeeded.\n",
      "[2024-12-06 02:25:27 - semantic_kernel.functions.kernel_function:39 - DEBUG] Function result: {\"id\": \"987654321\", \"clientID\": \"987654321\", \"firstName\": \"John\", \"lastName\": \"Doe\", \"fullName\": \"John Doe\", \"dateOfBirth\": \"1980-01-01\", \"nationality\": \"Malaysia\", \"contactDetails\": {\"email\": \"john.doe@example.com\", \"phone\": \"123-456-7890\"}, \"address\": {\"street\": \"123 Main St\", \"city\": \"New York\", \"state\": \"NY\", \"postalCode\": \"12345\", \"country\": \"USA\"}, \"policies\": [{\"PolicyNo\": \"0\", \"BasicPlanProduct\": \"P230ZII\", \"ProductType\": \"Ztravel International\", \"PolicyStatus\": \"A\", \"EffectiveDate\": \"2024-06-18 00:00:00.000\", \"ExpiryDate\": \"2024-07-13 00:00:00.000\", \"Overseas Medical Expenses\": \"500000\", \"Follow up Treatment in Malaysia\": \"50000.0\", \"Alternative Medicine\": \"500.0\", \"Overseas Hospital Income\": \"15000.0\", \"Child Care Benefit\": \"10000.0\", \"Compassionate Visit\": \"10000.0\", \"Emergency Medical Evacuation\": \"Unlimited\", \"Medical Repatriation\": \"Unlimited\", \"Repatriation of Mortal Remains\": \"Unlimited\"}, {\"PolicyNo\": \"1\", \"BasicPlanProduct\": \"P230ZII\", \"ProductType\": \"Ztravel International Plus\", \"PolicyStatus\": \"A\", \"EffectiveDate\": \"2024-06-18 00:00:00.000\", \"ExpiryDate\": \"2024-07-13 00:00:00.000\", \"Overseas Medical Expenses\": \"500000\", \"Follow up Treatment in Malaysia\": \"50000.0\", \"Alternative Medicine\": \"5000.0\", \"Overseas Hospital Income\": \"15000.0\", \"Child Care Benefit\": \"100000.0\", \"Compassionate Visit\": \"10000.0\", \"Emergency Medical Evacuation\": \"Unlimited\", \"Medical Repatriation\": \"Unlimited\", \"Repatriation of Mortal Remains\": \"Unlimited\"}, {\"PolicyNo\": \"2\", \"BasicPlanProduct\": \"P045PSI\", \"ProductType\": \"Personal Accident\", \"PolicyStatus\": \"A\", \"EffectiveDate\": \"2018-08-15 00:00:00.000\", \"ExpiryDate\": \"2019-08-14 00:00:00.000\", \"Overseas Medical Expenses\": \"500000\", \"Follow up Treatment in Malaysia\": \"500000.0\", \"Alternative Medicine\": \"5000.0\", \"Overseas Hospital Income\": \"150000.0\", \"Child Care Benefit\": \"100000.0\", \"Compassionate Visit\": \"100000.0\", \"Emergency Medical Evacuation\": \"Unlimited\", \"Medical Repatriation\": \"Unlimited\", \"Repatriation of Mortal Remains\": \"Unlimited\"}], \"_rid\": \"4cJyAP3fZv4BAAAAAAAAAA==\", \"_self\": \"dbs/4cJyAA==/colls/4cJyAP3fZv4=/docs/4cJyAP3fZv4BAAAAAAAAAA==/\", \"_etag\": \"\\\"8800cae1-0000-0800-0000-6750bf640000\\\"\", \"_attachments\": \"attachments/\", \"_ts\": 1733345124}\n",
      "[2024-12-06 02:25:27 - semantic_kernel.functions.kernel_function:53 - INFO] Function completed. Duration: 0.340140s\n",
      "[2024-12-06 02:25:31 - semantic_kernel.connectors.ai.open_ai.services.open_ai_handler:194 - INFO] OpenAI usage: CompletionUsage(completion_tokens=439, prompt_tokens=1199, total_tokens=1638, completion_tokens_details=None, prompt_tokens_details=None)\n",
      "[2024-12-06 02:25:31 - semantic_kernel.agents.chat_completion.chat_completion_agent:117 - INFO] [ChatCompletionAgent] Invoked AzureChatCompletion with message count: 2.\n",
      "[2024-12-06 02:25:31 - semantic_kernel.agents.strategies.termination.termination_strategy:48 - INFO] Evaluating termination criteria for 091d4eab-ef10-42e0-9c74-c42f4900c1ed\n",
      "[2024-12-06 02:25:31 - semantic_kernel.agents.strategies.termination.termination_strategy:56 - INFO] Evaluated criteria for 091d4eab-ef10-42e0-9c74-c42f4900c1ed, should terminate: False\n",
      "[2024-12-06 02:25:31 - semantic_kernel.agents.strategies.selection.kernel_function_selection_strategy:73 - INFO] Kernel Function Selection Strategy next method called, invoking function: , selection\n",
      "[2024-12-06 02:25:31 - semantic_kernel.functions.kernel_function:19 - INFO] Function selection invoking.\n",
      "[2024-12-06 02:25:31 - semantic_kernel.functions.kernel_function:24 - DEBUG] Function arguments: {'agents': 'Query,Summariser', 'history': [{'role': 'user', 'content': 'Provide me the policies of my client John Doe in a table format'}, {'role': 'assistant', 'tool_calls': [{'id': 'call_dCgKnMAjSy91QJR0zvHwyges', 'type': 'function', 'function': {'name': 'crm-load_from_crm_by_client_fullname', 'arguments': '{\"full_name\":\"John Doe\"}'}}], 'name': 'Query'}, {'role': 'tool', 'content': '{\"id\": \"987654321\", \"clientID\": \"987654321\", \"firstName\": \"John\", \"lastName\": \"Doe\", \"fullName\": \"John Doe\", \"dateOfBirth\": \"1980-01-01\", \"nationality\": \"Malaysia\", \"contactDetails\": {\"email\": \"john.doe@example.com\", \"phone\": \"123-456-7890\"}, \"address\": {\"street\": \"123 Main St\", \"city\": \"New York\", \"state\": \"NY\", \"postalCode\": \"12345\", \"country\": \"USA\"}, \"policies\": [{\"PolicyNo\": \"0\", \"BasicPlanProduct\": \"P230ZII\", \"ProductType\": \"Ztravel International\", \"PolicyStatus\": \"A\", \"EffectiveDate\": \"2024-06-18 00:00:00.000\", \"ExpiryDate\": \"2024-07-13 00:00:00.000\", \"Overseas Medical Expenses\": \"500000\", \"Follow up Treatment in Malaysia\": \"50000.0\", \"Alternative Medicine\": \"500.0\", \"Overseas Hospital Income\": \"15000.0\", \"Child Care Benefit\": \"10000.0\", \"Compassionate Visit\": \"10000.0\", \"Emergency Medical Evacuation\": \"Unlimited\", \"Medical Repatriation\": \"Unlimited\", \"Repatriation of Mortal Remains\": \"Unlimited\"}, {\"PolicyNo\": \"1\", \"BasicPlanProduct\": \"P230ZII\", \"ProductType\": \"Ztravel International Plus\", \"PolicyStatus\": \"A\", \"EffectiveDate\": \"2024-06-18 00:00:00.000\", \"ExpiryDate\": \"2024-07-13 00:00:00.000\", \"Overseas Medical Expenses\": \"500000\", \"Follow up Treatment in Malaysia\": \"50000.0\", \"Alternative Medicine\": \"5000.0\", \"Overseas Hospital Income\": \"15000.0\", \"Child Care Benefit\": \"100000.0\", \"Compassionate Visit\": \"10000.0\", \"Emergency Medical Evacuation\": \"Unlimited\", \"Medical Repatriation\": \"Unlimited\", \"Repatriation of Mortal Remains\": \"Unlimited\"}, {\"PolicyNo\": \"2\", \"BasicPlanProduct\": \"P045PSI\", \"ProductType\": \"Personal Accident\", \"PolicyStatus\": \"A\", \"EffectiveDate\": \"2018-08-15 00:00:00.000\", \"ExpiryDate\": \"2019-08-14 00:00:00.000\", \"Overseas Medical Expenses\": \"500000\", \"Follow up Treatment in Malaysia\": \"500000.0\", \"Alternative Medicine\": \"5000.0\", \"Overseas Hospital Income\": \"150000.0\", \"Child Care Benefit\": \"100000.0\", \"Compassionate Visit\": \"100000.0\", \"Emergency Medical Evacuation\": \"Unlimited\", \"Medical Repatriation\": \"Unlimited\", \"Repatriation of Mortal Remains\": \"Unlimited\"}], \"_rid\": \"4cJyAP3fZv4BAAAAAAAAAA==\", \"_self\": \"dbs/4cJyAA==/colls/4cJyAP3fZv4=/docs/4cJyAP3fZv4BAAAAAAAAAA==/\", \"_etag\": \"\\\\\"8800cae1-0000-0800-0000-6750bf640000\\\\\"\", \"_attachments\": \"attachments/\", \"_ts\": 1733345124}', 'tool_call_id': 'call_dCgKnMAjSy91QJR0zvHwyges'}, {'role': 'assistant', 'content': 'Here are the policies for the client John Doe:\\n\\n| Policy No | Basic Plan Product | Product Type               | Policy Status | Effective Date         | Expiry Date            | Overseas Medical Expenses | Follow up Treatment in Malaysia | Alternative Medicine | Overseas Hospital Income | Child Care Benefit | Compassionate Visit | Emergency Medical Evacuation | Medical Repatriation | Repatriation of Mortal Remains |\\n|-----------|--------------------|----------------------------|---------------|------------------------|------------------------|---------------------------|-------------------------------|----------------------|--------------------------|-------------------|---------------------|-----------------------------|----------------------|-------------------------------|\\n| 0         | P230ZII            | Ztravel International      | A             | 2024-06-18 00:00:00.000| 2024-07-13 00:00:00.000| 500000                    | 50000.0                       | 500.0                | 15000.0                  | 10000.0           | 10000.0             | Unlimited                   | Unlimited            | Unlimited                       |\\n| 1         | P230ZII            | Ztravel International Plus | A             | 2024-06-18 00:00:00.000| 2024-07-13 00:00:00.000| 500000                    | 50000.0                       | 5000.0               | 15000.0                  | 100000.0          | 10000.0             | Unlimited                   | Unlimited            | Unlimited                       |\\n| 2         | P045PSI            | Personal Accident          | A             | 2018-08-15 00:00:00.000| 2019-08-14 00:00:00.000| 500000                    | 500000.0                      | 5000.0               | 150000.0                 | 100000.0          | 100000.0            | Unlimited                   | Unlimited            | Unlimited                       |\\n\\nIf you need more details or have any specific queries, please let me know!', 'name': 'Query'}]}\n",
      "[2024-12-06 02:25:31 - semantic_kernel.prompt_template.kernel_prompt_template:113 - DEBUG] Rendering list of 3 blocks\n",
      "[2024-12-06 02:25:31 - semantic_kernel.prompt_template.kernel_prompt_template:129 - DEBUG] Rendered prompt: \n",
      "                    You are the next speaker selector.\n",
      "\n",
      "                    - You MUST return ONLY agent name from the list of available agents below.\n",
      "                    - You MUST return the agent name and nothing else.\n",
      "                    - Check the history, if any, and decide WHAT agent is the best next speaker\n",
      "                    - The names are case-sensitive and should not be abbreviated or changed.\n",
      "                    - YOU MUST OBSERVE AGENT USAGE INSTRUCTIONS.\n",
      "\n",
      "# AVAILABLE AGENTS\n",
      "\n",
      "Query: Agent processes the user request by calling external data sources\n",
      "Summariser: The agent that summarises a final response to the user's original inquiry by collecting responses from the OTHER agents\n",
      "\n",
      "# CHAT HISTORY\n",
      "\n",
      "[{'role': 'user', 'content': 'Provide me the policies of my client John Doe in a table format'}, {'role': 'assistant', 'tool_calls': [{'id': 'call_dCgKnMAjSy91QJR0zvHwyges', 'type': 'function', 'function': {'name': 'crm-load_from_crm_by_client_fullname', 'arguments': '{\"full_name\":\"John Doe\"}'}}], 'name': 'Query'}, {'role': 'tool', 'content': '{\"id\": \"987654321\", \"clientID\": \"987654321\", \"firstName\": \"John\", \"lastName\": \"Doe\", \"fullName\": \"John Doe\", \"dateOfBirth\": \"1980-01-01\", \"nationality\": \"Malaysia\", \"contactDetails\": {\"email\": \"john.doe@example.com\", \"phone\": \"123-456-7890\"}, \"address\": {\"street\": \"123 Main St\", \"city\": \"New York\", \"state\": \"NY\", \"postalCode\": \"12345\", \"country\": \"USA\"}, \"policies\": [{\"PolicyNo\": \"0\", \"BasicPlanProduct\": \"P230ZII\", \"ProductType\": \"Ztravel International\", \"PolicyStatus\": \"A\", \"EffectiveDate\": \"2024-06-18 00:00:00.000\", \"ExpiryDate\": \"2024-07-13 00:00:00.000\", \"Overseas Medical Expenses\": \"500000\", \"Follow up Treatment in Malaysia\": \"50000.0\", \"Alternative Medicine\": \"500.0\", \"Overseas Hospital Income\": \"15000.0\", \"Child Care Benefit\": \"10000.0\", \"Compassionate Visit\": \"10000.0\", \"Emergency Medical Evacuation\": \"Unlimited\", \"Medical Repatriation\": \"Unlimited\", \"Repatriation of Mortal Remains\": \"Unlimited\"}, {\"PolicyNo\": \"1\", \"BasicPlanProduct\": \"P230ZII\", \"ProductType\": \"Ztravel International Plus\", \"PolicyStatus\": \"A\", \"EffectiveDate\": \"2024-06-18 00:00:00.000\", \"ExpiryDate\": \"2024-07-13 00:00:00.000\", \"Overseas Medical Expenses\": \"500000\", \"Follow up Treatment in Malaysia\": \"50000.0\", \"Alternative Medicine\": \"5000.0\", \"Overseas Hospital Income\": \"15000.0\", \"Child Care Benefit\": \"100000.0\", \"Compassionate Visit\": \"10000.0\", \"Emergency Medical Evacuation\": \"Unlimited\", \"Medical Repatriation\": \"Unlimited\", \"Repatriation of Mortal Remains\": \"Unlimited\"}, {\"PolicyNo\": \"2\", \"BasicPlanProduct\": \"P045PSI\", \"ProductType\": \"Personal Accident\", \"PolicyStatus\": \"A\", \"EffectiveDate\": \"2018-08-15 00:00:00.000\", \"ExpiryDate\": \"2019-08-14 00:00:00.000\", \"Overseas Medical Expenses\": \"500000\", \"Follow up Treatment in Malaysia\": \"500000.0\", \"Alternative Medicine\": \"5000.0\", \"Overseas Hospital Income\": \"150000.0\", \"Child Care Benefit\": \"100000.0\", \"Compassionate Visit\": \"100000.0\", \"Emergency Medical Evacuation\": \"Unlimited\", \"Medical Repatriation\": \"Unlimited\", \"Repatriation of Mortal Remains\": \"Unlimited\"}], \"_rid\": \"4cJyAP3fZv4BAAAAAAAAAA==\", \"_self\": \"dbs/4cJyAA==/colls/4cJyAP3fZv4=/docs/4cJyAP3fZv4BAAAAAAAAAA==/\", \"_etag\": \"\\\\\"8800cae1-0000-0800-0000-6750bf640000\\\\\"\", \"_attachments\": \"attachments/\", \"_ts\": 1733345124}', 'tool_call_id': 'call_dCgKnMAjSy91QJR0zvHwyges'}, {'role': 'assistant', 'content': 'Here are the policies for the client John Doe:\\n\\n| Policy No | Basic Plan Product | Product Type               | Policy Status | Effective Date         | Expiry Date            | Overseas Medical Expenses | Follow up Treatment in Malaysia | Alternative Medicine | Overseas Hospital Income | Child Care Benefit | Compassionate Visit | Emergency Medical Evacuation | Medical Repatriation | Repatriation of Mortal Remains |\\n|-----------|--------------------|----------------------------|---------------|------------------------|------------------------|---------------------------|-------------------------------|----------------------|--------------------------|-------------------|---------------------|-----------------------------|----------------------|-------------------------------|\\n| 0         | P230ZII            | Ztravel International      | A             | 2024-06-18 00:00:00.000| 2024-07-13 00:00:00.000| 500000                    | 50000.0                       | 500.0                | 15000.0                  | 10000.0           | 10000.0             | Unlimited                   | Unlimited            | Unlimited                       |\\n| 1         | P230ZII            | Ztravel International Plus | A             | 2024-06-18 00:00:00.000| 2024-07-13 00:00:00.000| 500000                    | 50000.0                       | 5000.0               | 15000.0                  | 100000.0          | 10000.0             | Unlimited                   | Unlimited            | Unlimited                       |\\n| 2         | P045PSI            | Personal Accident          | A             | 2018-08-15 00:00:00.000| 2019-08-14 00:00:00.000| 500000                    | 500000.0                      | 5000.0               | 150000.0                 | 100000.0          | 100000.0            | Unlimited                   | Unlimited            | Unlimited                       |\\n\\nIf you need more details or have any specific queries, please let me know!', 'name': 'Query'}]\n",
      "                    \n"
     ]
    },
    {
     "name": "stdout",
     "output_type": "stream",
     "text": [
      "---------------- >>>>>>  -------------------\n",
      "Query: Here are the policies for the client John Doe:\n",
      "\n",
      "| Policy No | Basic Plan Product | Product Type               | Policy Status | Effective Date         | Expiry Date            | Overseas Medical Expenses | Follow up Treatment in Malaysia | Alternative Medicine | Overseas Hospital Income | Child Care Benefit | Compassionate Visit | Emergency Medical Evacuation | Medical Repatriation | Repatriation of Mortal Remains |\n",
      "|-----------|--------------------|----------------------------|---------------|------------------------|------------------------|---------------------------|-------------------------------|----------------------|--------------------------|-------------------|---------------------|-----------------------------|----------------------|-------------------------------|\n",
      "| 0         | P230ZII            | Ztravel International      | A             | 2024-06-18 00:00:00.000| 2024-07-13 00:00:00.000| 500000                    | 50000.0                       | 500.0                | 15000.0                  | 10000.0           | 10000.0             | Unlimited                   | Unlimited            | Unlimited                       |\n",
      "| 1         | P230ZII            | Ztravel International Plus | A             | 2024-06-18 00:00:00.000| 2024-07-13 00:00:00.000| 500000                    | 50000.0                       | 5000.0               | 15000.0                  | 100000.0          | 10000.0             | Unlimited                   | Unlimited            | Unlimited                       |\n",
      "| 2         | P045PSI            | Personal Accident          | A             | 2018-08-15 00:00:00.000| 2019-08-14 00:00:00.000| 500000                    | 500000.0                      | 5000.0               | 150000.0                 | 100000.0          | 100000.0            | Unlimited                   | Unlimited            | Unlimited                       |\n",
      "\n",
      "If you need more details or have any specific queries, please let me know!\n"
     ]
    },
    {
     "name": "stderr",
     "output_type": "stream",
     "text": [
      "[2024-12-06 02:25:31 - semantic_kernel.connectors.ai.open_ai.services.open_ai_handler:194 - INFO] OpenAI usage: CompletionUsage(completion_tokens=3, prompt_tokens=1483, total_tokens=1486, completion_tokens_details=None, prompt_tokens_details=None)\n",
      "[2024-12-06 02:25:31 - semantic_kernel.functions.kernel_function:29 - INFO] Function selection succeeded.\n",
      "[2024-12-06 02:25:31 - semantic_kernel.functions.kernel_function:39 - DEBUG] Function result: Summariser\n",
      "[2024-12-06 02:25:31 - semantic_kernel.functions.kernel_function:53 - INFO] Function completed. Duration: 0.218935s\n",
      "[2024-12-06 02:25:31 - semantic_kernel.agents.strategies.selection.kernel_function_selection_strategy:84 - INFO] Kernel Function Selection Strategy next method completed: , selection, result: [ChatMessageContent(inner_content=ChatCompletion(id='chatcmpl-AbHNzwc1LIwZCyPIdVS1AkqvyHPG7', choices=[Choice(finish_reason='stop', index=0, logprobs=None, message=ChatCompletionMessage(content='Summariser', refusal=None, role='assistant', audio=None, function_call=None, tool_calls=None), content_filter_results={'hate': {'filtered': False, 'severity': 'safe'}, 'protected_material_code': {'filtered': False, 'detected': False}, 'protected_material_text': {'filtered': False, 'detected': False}, 'self_harm': {'filtered': False, 'severity': 'safe'}, 'sexual': {'filtered': False, 'severity': 'safe'}, 'violence': {'filtered': False, 'severity': 'safe'}})], created=1733448331, model='gpt-4o-2024-05-13', object='chat.completion', service_tier=None, system_fingerprint='fp_04751d0b65', usage=CompletionUsage(completion_tokens=3, prompt_tokens=1483, total_tokens=1486, completion_tokens_details=None, prompt_tokens_details=None), prompt_filter_results=[{'prompt_index': 0, 'content_filter_results': {'hate': {'filtered': False, 'severity': 'safe'}, 'jailbreak': {'filtered': False, 'detected': False}, 'self_harm': {'filtered': False, 'severity': 'safe'}, 'sexual': {'filtered': False, 'severity': 'safe'}, 'violence': {'filtered': False, 'severity': 'safe'}}}]), ai_model_id='gpt-4o-2024-05-13', metadata={'logprobs': None, 'id': 'chatcmpl-AbHNzwc1LIwZCyPIdVS1AkqvyHPG7', 'created': 1733448331, 'system_fingerprint': 'fp_04751d0b65', 'usage': CompletionUsage(prompt_tokens=1483, completion_tokens=3)}, content_type='message', role=<AuthorRole.ASSISTANT: 'assistant'>, name=None, items=[TextContent(inner_content=None, ai_model_id=None, metadata={}, content_type='text', text='Summariser', encoding=None)], encoding=None, finish_reason=<FinishReason.STOP: 'stop'>)]\n",
      "[2024-12-06 02:25:31 - semantic_kernel.agents.group_chat.agent_chat:139 - INFO] Invoking agent Summariser\n",
      "[2024-12-06 02:25:31 - semantic_kernel.agents.chat_completion.chat_completion_agent:109 - DEBUG] [ChatCompletionAgent] Invoking AzureChatCompletion.\n",
      "[2024-12-06 02:25:34 - semantic_kernel.connectors.ai.open_ai.services.open_ai_handler:194 - INFO] OpenAI usage: CompletionUsage(completion_tokens=384, prompt_tokens=1456, total_tokens=1840, completion_tokens_details=None, prompt_tokens_details=None)\n",
      "[2024-12-06 02:25:34 - semantic_kernel.agents.chat_completion.chat_completion_agent:117 - INFO] [ChatCompletionAgent] Invoked AzureChatCompletion with message count: 5.\n",
      "[2024-12-06 02:25:34 - semantic_kernel.agents.strategies.termination.termination_strategy:48 - INFO] Evaluating termination criteria for 65ba703f-34b0-4817-89d4-d71a45e542c7\n",
      "[2024-12-06 02:25:34 - semantic_kernel.agents.strategies.termination.termination_strategy:56 - INFO] Evaluated criteria for 65ba703f-34b0-4817-89d4-d71a45e542c7, should terminate: True\n",
      "[2024-12-06 02:25:34 - semantic_kernel.agents.group_chat.agent_chat:67 - INFO] Getting chat messages\n"
     ]
    },
    {
     "name": "stdout",
     "output_type": "stream",
     "text": [
      "---------------- >>>>>>  -------------------\n",
      "Summariser: Here are the policies for the client John Doe:\n",
      "\n",
      "| Policy No | Basic Plan Product | Product Type               | Policy Status | Effective Date         | Expiry Date            | Overseas Medical Expenses | Follow up Treatment in Malaysia | Alternative Medicine | Overseas Hospital Income | Child Care Benefit | Compassionate Visit | Emergency Medical Evacuation | Medical Repatriation | Repatriation of Mortal Remains |\n",
      "|-----------|--------------------|----------------------------|---------------|------------------------|------------------------|---------------------------|-------------------------------|----------------------|--------------------------|-------------------|---------------------|-----------------------------|----------------------|-------------------------------|\n",
      "| 0         | P230ZII            | Ztravel International      | A             | 2024-06-18             | 2024-07-13             | 500,000                   | 50,000                        | 500                  | 15,000                   | 10,000            | 10,000              | Unlimited                    | Unlimited             | Unlimited                        |\n",
      "| 1         | P230ZII            | Ztravel International Plus | A             | 2024-06-18             | 2024-07-13             | 500,000                   | 50,000                        | 5,000                | 15,000                   | 100,000           | 10,000              | Unlimited                    | Unlimited             | Unlimited                        |\n",
      "| 2         | P045PSI            | Personal Accident          | A             | 2018-08-15             | 2019-08-14             | 500,000                   | 500,000                       | 5,000                | 150,000                  | 100,000           | 100,000             | Unlimited                    | Unlimited             | Unlimited                        |\n",
      "\n",
      "If you need more details or have any specific queries, please let me know!\n",
      "SK AgentGroupChat reponder response = [ChatMessageContent(inner_content=None, ai_model_id=None, metadata={}, content_type='message', role=<AuthorRole.USER: 'user'>, name=None, items=[TextContent(inner_content=None, ai_model_id=None, metadata={}, content_type='text', text='Provide me the policies of my client John Doe in a table format', encoding=None)], encoding=None, finish_reason=None), ChatMessageContent(inner_content=ChatCompletion(id='chatcmpl-AbHNug3dJRd4HiotvfDvHHq8Ke5TL', choices=[Choice(finish_reason='tool_calls', index=0, logprobs=None, message=ChatCompletionMessage(content=None, refusal=None, role='assistant', audio=None, function_call=None, tool_calls=[ChatCompletionMessageToolCall(id='call_dCgKnMAjSy91QJR0zvHwyges', function=Function(arguments='{\"full_name\":\"John Doe\"}', name='crm-load_from_crm_by_client_fullname'), type='function')]), content_filter_results={})], created=1733448326, model='gpt-4o-2024-05-13', object='chat.completion', service_tier=None, system_fingerprint='fp_04751d0b65', usage=CompletionUsage(completion_tokens=23, prompt_tokens=407, total_tokens=430, completion_tokens_details=None, prompt_tokens_details=None), prompt_filter_results=[{'prompt_index': 0, 'content_filter_results': {'hate': {'filtered': False, 'severity': 'safe'}, 'jailbreak': {'filtered': False, 'detected': False}, 'self_harm': {'filtered': False, 'severity': 'safe'}, 'sexual': {'filtered': False, 'severity': 'safe'}, 'violence': {'filtered': False, 'severity': 'safe'}}}]), ai_model_id='gpt-4o-2024-05-13', metadata={'logprobs': None, 'id': 'chatcmpl-AbHNug3dJRd4HiotvfDvHHq8Ke5TL', 'created': 1733448326, 'system_fingerprint': 'fp_04751d0b65', 'usage': CompletionUsage(prompt_tokens=407, completion_tokens=23)}, content_type='message', role=<AuthorRole.ASSISTANT: 'assistant'>, name='Query', items=[FunctionCallContent(inner_content=None, ai_model_id=None, metadata={}, content_type=<ContentTypes.FUNCTION_CALL_CONTENT: 'function_call'>, id='call_dCgKnMAjSy91QJR0zvHwyges', index=None, name='crm-load_from_crm_by_client_fullname', function_name='load_from_crm_by_client_fullname', plugin_name='crm', arguments='{\"full_name\":\"John Doe\"}')], encoding=None, finish_reason=<FinishReason.TOOL_CALLS: 'tool_calls'>), ChatMessageContent(inner_content=None, ai_model_id=None, metadata={}, content_type='message', role=<AuthorRole.TOOL: 'tool'>, name='Query', items=[FunctionResultContent(inner_content=FunctionResult(function=KernelFunctionMetadata(name='load_from_crm_by_client_fullname', plugin_name='crm', description='Load insured client data from the CRM from the given full name', parameters=[KernelParameterMetadata(name='full_name', description='The customer full name to search for', default_value=None, type_='str', is_required=True, type_object=<class 'str'>, schema_data={'type': 'string', 'description': 'The customer full name to search for'}, include_in_function_choices=True)], is_prompt=False, is_asynchronous=False, return_parameter=KernelParameterMetadata(name='return', description='The output is a customer profile', default_value=None, type_='str', is_required=True, type_object=<class 'str'>, schema_data={'type': 'string', 'description': 'The output is a customer profile'}, include_in_function_choices=True), additional_properties={}), value='{\"id\": \"987654321\", \"clientID\": \"987654321\", \"firstName\": \"John\", \"lastName\": \"Doe\", \"fullName\": \"John Doe\", \"dateOfBirth\": \"1980-01-01\", \"nationality\": \"Malaysia\", \"contactDetails\": {\"email\": \"john.doe@example.com\", \"phone\": \"123-456-7890\"}, \"address\": {\"street\": \"123 Main St\", \"city\": \"New York\", \"state\": \"NY\", \"postalCode\": \"12345\", \"country\": \"USA\"}, \"policies\": [{\"PolicyNo\": \"0\", \"BasicPlanProduct\": \"P230ZII\", \"ProductType\": \"Ztravel International\", \"PolicyStatus\": \"A\", \"EffectiveDate\": \"2024-06-18 00:00:00.000\", \"ExpiryDate\": \"2024-07-13 00:00:00.000\", \"Overseas Medical Expenses\": \"500000\", \"Follow up Treatment in Malaysia\": \"50000.0\", \"Alternative Medicine\": \"500.0\", \"Overseas Hospital Income\": \"15000.0\", \"Child Care Benefit\": \"10000.0\", \"Compassionate Visit\": \"10000.0\", \"Emergency Medical Evacuation\": \"Unlimited\", \"Medical Repatriation\": \"Unlimited\", \"Repatriation of Mortal Remains\": \"Unlimited\"}, {\"PolicyNo\": \"1\", \"BasicPlanProduct\": \"P230ZII\", \"ProductType\": \"Ztravel International Plus\", \"PolicyStatus\": \"A\", \"EffectiveDate\": \"2024-06-18 00:00:00.000\", \"ExpiryDate\": \"2024-07-13 00:00:00.000\", \"Overseas Medical Expenses\": \"500000\", \"Follow up Treatment in Malaysia\": \"50000.0\", \"Alternative Medicine\": \"5000.0\", \"Overseas Hospital Income\": \"15000.0\", \"Child Care Benefit\": \"100000.0\", \"Compassionate Visit\": \"10000.0\", \"Emergency Medical Evacuation\": \"Unlimited\", \"Medical Repatriation\": \"Unlimited\", \"Repatriation of Mortal Remains\": \"Unlimited\"}, {\"PolicyNo\": \"2\", \"BasicPlanProduct\": \"P045PSI\", \"ProductType\": \"Personal Accident\", \"PolicyStatus\": \"A\", \"EffectiveDate\": \"2018-08-15 00:00:00.000\", \"ExpiryDate\": \"2019-08-14 00:00:00.000\", \"Overseas Medical Expenses\": \"500000\", \"Follow up Treatment in Malaysia\": \"500000.0\", \"Alternative Medicine\": \"5000.0\", \"Overseas Hospital Income\": \"150000.0\", \"Child Care Benefit\": \"100000.0\", \"Compassionate Visit\": \"100000.0\", \"Emergency Medical Evacuation\": \"Unlimited\", \"Medical Repatriation\": \"Unlimited\", \"Repatriation of Mortal Remains\": \"Unlimited\"}], \"_rid\": \"4cJyAP3fZv4BAAAAAAAAAA==\", \"_self\": \"dbs/4cJyAA==/colls/4cJyAP3fZv4=/docs/4cJyAP3fZv4BAAAAAAAAAA==/\", \"_etag\": \"\\\\\"8800cae1-0000-0800-0000-6750bf640000\\\\\"\", \"_attachments\": \"attachments/\", \"_ts\": 1733345124}', metadata={'arguments': {'full_name': 'John Doe'}, 'used_arguments': {'full_name': 'John Doe'}}), ai_model_id=None, metadata={'arguments': {'full_name': 'John Doe'}, 'used_arguments': {'full_name': 'John Doe'}}, content_type=<ContentTypes.FUNCTION_RESULT_CONTENT: 'function_result'>, id='call_dCgKnMAjSy91QJR0zvHwyges', result='{\"id\": \"987654321\", \"clientID\": \"987654321\", \"firstName\": \"John\", \"lastName\": \"Doe\", \"fullName\": \"John Doe\", \"dateOfBirth\": \"1980-01-01\", \"nationality\": \"Malaysia\", \"contactDetails\": {\"email\": \"john.doe@example.com\", \"phone\": \"123-456-7890\"}, \"address\": {\"street\": \"123 Main St\", \"city\": \"New York\", \"state\": \"NY\", \"postalCode\": \"12345\", \"country\": \"USA\"}, \"policies\": [{\"PolicyNo\": \"0\", \"BasicPlanProduct\": \"P230ZII\", \"ProductType\": \"Ztravel International\", \"PolicyStatus\": \"A\", \"EffectiveDate\": \"2024-06-18 00:00:00.000\", \"ExpiryDate\": \"2024-07-13 00:00:00.000\", \"Overseas Medical Expenses\": \"500000\", \"Follow up Treatment in Malaysia\": \"50000.0\", \"Alternative Medicine\": \"500.0\", \"Overseas Hospital Income\": \"15000.0\", \"Child Care Benefit\": \"10000.0\", \"Compassionate Visit\": \"10000.0\", \"Emergency Medical Evacuation\": \"Unlimited\", \"Medical Repatriation\": \"Unlimited\", \"Repatriation of Mortal Remains\": \"Unlimited\"}, {\"PolicyNo\": \"1\", \"BasicPlanProduct\": \"P230ZII\", \"ProductType\": \"Ztravel International Plus\", \"PolicyStatus\": \"A\", \"EffectiveDate\": \"2024-06-18 00:00:00.000\", \"ExpiryDate\": \"2024-07-13 00:00:00.000\", \"Overseas Medical Expenses\": \"500000\", \"Follow up Treatment in Malaysia\": \"50000.0\", \"Alternative Medicine\": \"5000.0\", \"Overseas Hospital Income\": \"15000.0\", \"Child Care Benefit\": \"100000.0\", \"Compassionate Visit\": \"10000.0\", \"Emergency Medical Evacuation\": \"Unlimited\", \"Medical Repatriation\": \"Unlimited\", \"Repatriation of Mortal Remains\": \"Unlimited\"}, {\"PolicyNo\": \"2\", \"BasicPlanProduct\": \"P045PSI\", \"ProductType\": \"Personal Accident\", \"PolicyStatus\": \"A\", \"EffectiveDate\": \"2018-08-15 00:00:00.000\", \"ExpiryDate\": \"2019-08-14 00:00:00.000\", \"Overseas Medical Expenses\": \"500000\", \"Follow up Treatment in Malaysia\": \"500000.0\", \"Alternative Medicine\": \"5000.0\", \"Overseas Hospital Income\": \"150000.0\", \"Child Care Benefit\": \"100000.0\", \"Compassionate Visit\": \"100000.0\", \"Emergency Medical Evacuation\": \"Unlimited\", \"Medical Repatriation\": \"Unlimited\", \"Repatriation of Mortal Remains\": \"Unlimited\"}], \"_rid\": \"4cJyAP3fZv4BAAAAAAAAAA==\", \"_self\": \"dbs/4cJyAA==/colls/4cJyAP3fZv4=/docs/4cJyAP3fZv4BAAAAAAAAAA==/\", \"_etag\": \"\\\\\"8800cae1-0000-0800-0000-6750bf640000\\\\\"\", \"_attachments\": \"attachments/\", \"_ts\": 1733345124}', name='crm-load_from_crm_by_client_fullname', function_name='load_from_crm_by_client_fullname', plugin_name='crm', encoding=None)], encoding=None, finish_reason=None), ChatMessageContent(inner_content=ChatCompletion(id='chatcmpl-AbHNvkGReX2XWwZGe9JYkdMoiX2D0', choices=[Choice(finish_reason='stop', index=0, logprobs=None, message=ChatCompletionMessage(content='Here are the policies for the client John Doe:\\n\\n| Policy No | Basic Plan Product | Product Type               | Policy Status | Effective Date         | Expiry Date            | Overseas Medical Expenses | Follow up Treatment in Malaysia | Alternative Medicine | Overseas Hospital Income | Child Care Benefit | Compassionate Visit | Emergency Medical Evacuation | Medical Repatriation | Repatriation of Mortal Remains |\\n|-----------|--------------------|----------------------------|---------------|------------------------|------------------------|---------------------------|-------------------------------|----------------------|--------------------------|-------------------|---------------------|-----------------------------|----------------------|-------------------------------|\\n| 0         | P230ZII            | Ztravel International      | A             | 2024-06-18 00:00:00.000| 2024-07-13 00:00:00.000| 500000                    | 50000.0                       | 500.0                | 15000.0                  | 10000.0           | 10000.0             | Unlimited                   | Unlimited            | Unlimited                       |\\n| 1         | P230ZII            | Ztravel International Plus | A             | 2024-06-18 00:00:00.000| 2024-07-13 00:00:00.000| 500000                    | 50000.0                       | 5000.0               | 15000.0                  | 100000.0          | 10000.0             | Unlimited                   | Unlimited            | Unlimited                       |\\n| 2         | P045PSI            | Personal Accident          | A             | 2018-08-15 00:00:00.000| 2019-08-14 00:00:00.000| 500000                    | 500000.0                      | 5000.0               | 150000.0                 | 100000.0          | 100000.0            | Unlimited                   | Unlimited            | Unlimited                       |\\n\\nIf you need more details or have any specific queries, please let me know!', refusal=None, role='assistant', audio=None, function_call=None, tool_calls=None), content_filter_results={'hate': {'filtered': False, 'severity': 'safe'}, 'protected_material_code': {'filtered': False, 'detected': False}, 'protected_material_text': {'filtered': False, 'detected': False}, 'self_harm': {'filtered': False, 'severity': 'safe'}, 'sexual': {'filtered': False, 'severity': 'safe'}, 'violence': {'filtered': False, 'severity': 'safe'}})], created=1733448327, model='gpt-4o-2024-05-13', object='chat.completion', service_tier=None, system_fingerprint='fp_04751d0b65', usage=CompletionUsage(completion_tokens=439, prompt_tokens=1199, total_tokens=1638, completion_tokens_details=None, prompt_tokens_details=None), prompt_filter_results=[{'prompt_index': 0, 'content_filter_results': {'hate': {'filtered': False, 'severity': 'safe'}, 'jailbreak': {'filtered': False, 'detected': False}, 'self_harm': {'filtered': False, 'severity': 'safe'}, 'sexual': {'filtered': False, 'severity': 'safe'}, 'violence': {'filtered': False, 'severity': 'safe'}}}]), ai_model_id='gpt-4o-2024-05-13', metadata={'logprobs': None, 'id': 'chatcmpl-AbHNvkGReX2XWwZGe9JYkdMoiX2D0', 'created': 1733448327, 'system_fingerprint': 'fp_04751d0b65', 'usage': CompletionUsage(prompt_tokens=1199, completion_tokens=439)}, content_type='message', role=<AuthorRole.ASSISTANT: 'assistant'>, name='Query', items=[TextContent(inner_content=None, ai_model_id=None, metadata={}, content_type='text', text='Here are the policies for the client John Doe:\\n\\n| Policy No | Basic Plan Product | Product Type               | Policy Status | Effective Date         | Expiry Date            | Overseas Medical Expenses | Follow up Treatment in Malaysia | Alternative Medicine | Overseas Hospital Income | Child Care Benefit | Compassionate Visit | Emergency Medical Evacuation | Medical Repatriation | Repatriation of Mortal Remains |\\n|-----------|--------------------|----------------------------|---------------|------------------------|------------------------|---------------------------|-------------------------------|----------------------|--------------------------|-------------------|---------------------|-----------------------------|----------------------|-------------------------------|\\n| 0         | P230ZII            | Ztravel International      | A             | 2024-06-18 00:00:00.000| 2024-07-13 00:00:00.000| 500000                    | 50000.0                       | 500.0                | 15000.0                  | 10000.0           | 10000.0             | Unlimited                   | Unlimited            | Unlimited                       |\\n| 1         | P230ZII            | Ztravel International Plus | A             | 2024-06-18 00:00:00.000| 2024-07-13 00:00:00.000| 500000                    | 50000.0                       | 5000.0               | 15000.0                  | 100000.0          | 10000.0             | Unlimited                   | Unlimited            | Unlimited                       |\\n| 2         | P045PSI            | Personal Accident          | A             | 2018-08-15 00:00:00.000| 2019-08-14 00:00:00.000| 500000                    | 500000.0                      | 5000.0               | 150000.0                 | 100000.0          | 100000.0            | Unlimited                   | Unlimited            | Unlimited                       |\\n\\nIf you need more details or have any specific queries, please let me know!', encoding=None)], encoding=None, finish_reason=<FinishReason.STOP: 'stop'>), ChatMessageContent(inner_content=ChatCompletion(id='chatcmpl-AbHNzrkJvv1fCILeqrSusp5p6z4eh', choices=[Choice(finish_reason='stop', index=0, logprobs=None, message=ChatCompletionMessage(content='Here are the policies for the client John Doe:\\n\\n| Policy No | Basic Plan Product | Product Type               | Policy Status | Effective Date         | Expiry Date            | Overseas Medical Expenses | Follow up Treatment in Malaysia | Alternative Medicine | Overseas Hospital Income | Child Care Benefit | Compassionate Visit | Emergency Medical Evacuation | Medical Repatriation | Repatriation of Mortal Remains |\\n|-----------|--------------------|----------------------------|---------------|------------------------|------------------------|---------------------------|-------------------------------|----------------------|--------------------------|-------------------|---------------------|-----------------------------|----------------------|-------------------------------|\\n| 0         | P230ZII            | Ztravel International      | A             | 2024-06-18             | 2024-07-13             | 500,000                   | 50,000                        | 500                  | 15,000                   | 10,000            | 10,000              | Unlimited                    | Unlimited             | Unlimited                        |\\n| 1         | P230ZII            | Ztravel International Plus | A             | 2024-06-18             | 2024-07-13             | 500,000                   | 50,000                        | 5,000                | 15,000                   | 100,000           | 10,000              | Unlimited                    | Unlimited             | Unlimited                        |\\n| 2         | P045PSI            | Personal Accident          | A             | 2018-08-15             | 2019-08-14             | 500,000                   | 500,000                       | 5,000                | 150,000                  | 100,000           | 100,000             | Unlimited                    | Unlimited             | Unlimited                        |\\n\\nIf you need more details or have any specific queries, please let me know!', refusal=None, role='assistant', audio=None, function_call=None, tool_calls=None), content_filter_results={'hate': {'filtered': False, 'severity': 'safe'}, 'protected_material_code': {'filtered': False, 'detected': False}, 'protected_material_text': {'filtered': False, 'detected': False}, 'self_harm': {'filtered': False, 'severity': 'safe'}, 'sexual': {'filtered': False, 'severity': 'safe'}, 'violence': {'filtered': False, 'severity': 'safe'}})], created=1733448331, model='gpt-4o-2024-05-13', object='chat.completion', service_tier=None, system_fingerprint='fp_04751d0b65', usage=CompletionUsage(completion_tokens=384, prompt_tokens=1456, total_tokens=1840, completion_tokens_details=None, prompt_tokens_details=None), prompt_filter_results=[{'prompt_index': 0, 'content_filter_results': {'hate': {'filtered': False, 'severity': 'safe'}, 'jailbreak': {'filtered': False, 'detected': False}, 'self_harm': {'filtered': False, 'severity': 'safe'}, 'sexual': {'filtered': False, 'severity': 'safe'}, 'violence': {'filtered': False, 'severity': 'safe'}}}]), ai_model_id='gpt-4o-2024-05-13', metadata={'logprobs': None, 'id': 'chatcmpl-AbHNzrkJvv1fCILeqrSusp5p6z4eh', 'created': 1733448331, 'system_fingerprint': 'fp_04751d0b65', 'usage': CompletionUsage(prompt_tokens=1456, completion_tokens=384)}, content_type='message', role=<AuthorRole.ASSISTANT: 'assistant'>, name='Summariser', items=[TextContent(inner_content=None, ai_model_id=None, metadata={}, content_type='text', text='Here are the policies for the client John Doe:\\n\\n| Policy No | Basic Plan Product | Product Type               | Policy Status | Effective Date         | Expiry Date            | Overseas Medical Expenses | Follow up Treatment in Malaysia | Alternative Medicine | Overseas Hospital Income | Child Care Benefit | Compassionate Visit | Emergency Medical Evacuation | Medical Repatriation | Repatriation of Mortal Remains |\\n|-----------|--------------------|----------------------------|---------------|------------------------|------------------------|---------------------------|-------------------------------|----------------------|--------------------------|-------------------|---------------------|-----------------------------|----------------------|-------------------------------|\\n| 0         | P230ZII            | Ztravel International      | A             | 2024-06-18             | 2024-07-13             | 500,000                   | 50,000                        | 500                  | 15,000                   | 10,000            | 10,000              | Unlimited                    | Unlimited             | Unlimited                        |\\n| 1         | P230ZII            | Ztravel International Plus | A             | 2024-06-18             | 2024-07-13             | 500,000                   | 50,000                        | 5,000                | 15,000                   | 100,000           | 10,000              | Unlimited                    | Unlimited             | Unlimited                        |\\n| 2         | P045PSI            | Personal Accident          | A             | 2018-08-15             | 2019-08-14             | 500,000                   | 500,000                       | 5,000                | 150,000                  | 100,000           | 100,000             | Unlimited                    | Unlimited             | Unlimited                        |\\n\\nIf you need more details or have any specific queries, please let me know!', encoding=None)], encoding=None, finish_reason=<FinishReason.STOP: 'stop'>)]\n"
     ]
    }
   ],
   "source": [
    "handler = SemanticKernelHandler(db)\n",
    "\n",
    "userId = 'sk_test_ins_1'\n",
    "user_data = {'chat_histories': {}}\n",
    "\n",
    "chat_history = ChatHistory()\n",
    "\n",
    "team_query_single = 'Provide me the policies of my client John Doe in a table format'\n",
    "\n",
    "agent_group_chat = handler.create_agent_group_chat(chat_history)\n",
    "\n",
    "await agent_group_chat.add_chat_message(ChatMessageContent(role=AuthorRole.USER, content=team_query_single))\n",
    "\n",
    "async for item in agent_group_chat.invoke():\n",
    "    print(\"---------------- >>>>>>  -------------------\")\n",
    "    print(f\"{item.name}: {item.content}\")\n",
    "    continue\n",
    "\n",
    "response = list(reversed([item async for item in agent_group_chat.get_chat_messages()]))\n",
    "\n",
    "print(f\"SK AgentGroupChat reponder response = {response}\")"
   ]
  },
  {
   "cell_type": "code",
   "execution_count": 10,
   "metadata": {},
   "outputs": [
    {
     "name": "stdout",
     "output_type": "stream",
     "text": [
      "Summariser\n",
      "AuthorRole.ASSISTANT\n",
      "Here are the policies for the client John Doe:\n",
      "\n",
      "| Policy No | Basic Plan Product | Product Type               | Policy Status | Effective Date         | Expiry Date            | Overseas Medical Expenses | Follow up Treatment in Malaysia | Alternative Medicine | Overseas Hospital Income | Child Care Benefit | Compassionate Visit | Emergency Medical Evacuation | Medical Repatriation | Repatriation of Mortal Remains |\n",
      "|-----------|--------------------|----------------------------|---------------|------------------------|------------------------|---------------------------|-------------------------------|----------------------|--------------------------|-------------------|---------------------|-----------------------------|----------------------|-------------------------------|\n",
      "| 0         | P230ZII            | Ztravel International      | A             | 2024-06-18             | 2024-07-13             | 500,000                   | 50,000                        | 500                  | 15,000                   | 10,000            | 10,000              | Unlimited                    | Unlimited             | Unlimited                        |\n",
      "| 1         | P230ZII            | Ztravel International Plus | A             | 2024-06-18             | 2024-07-13             | 500,000                   | 50,000                        | 5,000                | 15,000                   | 100,000           | 10,000              | Unlimited                    | Unlimited             | Unlimited                        |\n",
      "| 2         | P045PSI            | Personal Accident          | A             | 2018-08-15             | 2019-08-14             | 500,000                   | 500,000                       | 5,000                | 150,000                  | 100,000           | 100,000             | Unlimited                    | Unlimited             | Unlimited                        |\n",
      "\n",
      "If you need more details or have any specific queries, please let me know!\n"
     ]
    }
   ],
   "source": [
    "\n",
    "print(response[-1].name)\n",
    "print(response[-1].role)\n",
    "print(response[-1].content)\n"
   ]
  },
  {
   "cell_type": "code",
   "execution_count": null,
   "metadata": {},
   "outputs": [],
   "source": [
    "def extract_sk_responses(response):\n",
    "    \"\"\"\n",
    "    Extracts the assistant's response from a list of ChatMessageContent objects.\n",
    "\n",
    "    Args:\n",
    "        chat_messages (list): A list of ChatMessageContent objects.\n",
    "\n",
    "    Returns:\n",
    "        dict: A dictionary with keys 'role', 'name', and 'content' containing the assistant's response.\n",
    "    \"\"\"\n",
    "    # filtered_messages = filter(lambda m: m.content and m.role in (AuthorRole.ASSISTANT, AuthorRole.USER), response)\n",
    "    results = [ \n",
    "        {**d, 'name': d.get('name', '')} \n",
    "        for d in (obj.to_dict() for obj in response) \n",
    "    ]\n",
    "    \n",
    "    return results\n",
    "\n"
   ]
  },
  {
   "cell_type": "code",
   "execution_count": 6,
   "metadata": {},
   "outputs": [
    {
     "data": {
      "text/plain": [
       "[{'role': 'user',\n",
       "  'content': 'Provide me the policies of my client John Doe in a table format',\n",
       "  'name': ''},\n",
       " {'role': 'assistant',\n",
       "  'tool_calls': [{'id': 'call_dCgKnMAjSy91QJR0zvHwyges',\n",
       "    'type': 'function',\n",
       "    'function': {'name': 'crm-load_from_crm_by_client_fullname',\n",
       "     'arguments': '{\"full_name\":\"John Doe\"}'}}],\n",
       "  'name': 'Query'},\n",
       " {'role': 'tool',\n",
       "  'content': '{\"id\": \"987654321\", \"clientID\": \"987654321\", \"firstName\": \"John\", \"lastName\": \"Doe\", \"fullName\": \"John Doe\", \"dateOfBirth\": \"1980-01-01\", \"nationality\": \"Malaysia\", \"contactDetails\": {\"email\": \"john.doe@example.com\", \"phone\": \"123-456-7890\"}, \"address\": {\"street\": \"123 Main St\", \"city\": \"New York\", \"state\": \"NY\", \"postalCode\": \"12345\", \"country\": \"USA\"}, \"policies\": [{\"PolicyNo\": \"0\", \"BasicPlanProduct\": \"P230ZII\", \"ProductType\": \"Ztravel International\", \"PolicyStatus\": \"A\", \"EffectiveDate\": \"2024-06-18 00:00:00.000\", \"ExpiryDate\": \"2024-07-13 00:00:00.000\", \"Overseas Medical Expenses\": \"500000\", \"Follow up Treatment in Malaysia\": \"50000.0\", \"Alternative Medicine\": \"500.0\", \"Overseas Hospital Income\": \"15000.0\", \"Child Care Benefit\": \"10000.0\", \"Compassionate Visit\": \"10000.0\", \"Emergency Medical Evacuation\": \"Unlimited\", \"Medical Repatriation\": \"Unlimited\", \"Repatriation of Mortal Remains\": \"Unlimited\"}, {\"PolicyNo\": \"1\", \"BasicPlanProduct\": \"P230ZII\", \"ProductType\": \"Ztravel International Plus\", \"PolicyStatus\": \"A\", \"EffectiveDate\": \"2024-06-18 00:00:00.000\", \"ExpiryDate\": \"2024-07-13 00:00:00.000\", \"Overseas Medical Expenses\": \"500000\", \"Follow up Treatment in Malaysia\": \"50000.0\", \"Alternative Medicine\": \"5000.0\", \"Overseas Hospital Income\": \"15000.0\", \"Child Care Benefit\": \"100000.0\", \"Compassionate Visit\": \"10000.0\", \"Emergency Medical Evacuation\": \"Unlimited\", \"Medical Repatriation\": \"Unlimited\", \"Repatriation of Mortal Remains\": \"Unlimited\"}, {\"PolicyNo\": \"2\", \"BasicPlanProduct\": \"P045PSI\", \"ProductType\": \"Personal Accident\", \"PolicyStatus\": \"A\", \"EffectiveDate\": \"2018-08-15 00:00:00.000\", \"ExpiryDate\": \"2019-08-14 00:00:00.000\", \"Overseas Medical Expenses\": \"500000\", \"Follow up Treatment in Malaysia\": \"500000.0\", \"Alternative Medicine\": \"5000.0\", \"Overseas Hospital Income\": \"150000.0\", \"Child Care Benefit\": \"100000.0\", \"Compassionate Visit\": \"100000.0\", \"Emergency Medical Evacuation\": \"Unlimited\", \"Medical Repatriation\": \"Unlimited\", \"Repatriation of Mortal Remains\": \"Unlimited\"}], \"_rid\": \"4cJyAP3fZv4BAAAAAAAAAA==\", \"_self\": \"dbs/4cJyAA==/colls/4cJyAP3fZv4=/docs/4cJyAP3fZv4BAAAAAAAAAA==/\", \"_etag\": \"\\\\\"8800cae1-0000-0800-0000-6750bf640000\\\\\"\", \"_attachments\": \"attachments/\", \"_ts\": 1733345124}',\n",
       "  'tool_call_id': 'call_dCgKnMAjSy91QJR0zvHwyges',\n",
       "  'name': ''},\n",
       " {'role': 'assistant',\n",
       "  'content': 'Here are the policies for the client John Doe:\\n\\n| Policy No | Basic Plan Product | Product Type               | Policy Status | Effective Date         | Expiry Date            | Overseas Medical Expenses | Follow up Treatment in Malaysia | Alternative Medicine | Overseas Hospital Income | Child Care Benefit | Compassionate Visit | Emergency Medical Evacuation | Medical Repatriation | Repatriation of Mortal Remains |\\n|-----------|--------------------|----------------------------|---------------|------------------------|------------------------|---------------------------|-------------------------------|----------------------|--------------------------|-------------------|---------------------|-----------------------------|----------------------|-------------------------------|\\n| 0         | P230ZII            | Ztravel International      | A             | 2024-06-18 00:00:00.000| 2024-07-13 00:00:00.000| 500000                    | 50000.0                       | 500.0                | 15000.0                  | 10000.0           | 10000.0             | Unlimited                   | Unlimited            | Unlimited                       |\\n| 1         | P230ZII            | Ztravel International Plus | A             | 2024-06-18 00:00:00.000| 2024-07-13 00:00:00.000| 500000                    | 50000.0                       | 5000.0               | 15000.0                  | 100000.0          | 10000.0             | Unlimited                   | Unlimited            | Unlimited                       |\\n| 2         | P045PSI            | Personal Accident          | A             | 2018-08-15 00:00:00.000| 2019-08-14 00:00:00.000| 500000                    | 500000.0                      | 5000.0               | 150000.0                 | 100000.0          | 100000.0            | Unlimited                   | Unlimited            | Unlimited                       |\\n\\nIf you need more details or have any specific queries, please let me know!',\n",
       "  'name': 'Query'},\n",
       " {'role': 'assistant',\n",
       "  'content': 'Here are the policies for the client John Doe:\\n\\n| Policy No | Basic Plan Product | Product Type               | Policy Status | Effective Date         | Expiry Date            | Overseas Medical Expenses | Follow up Treatment in Malaysia | Alternative Medicine | Overseas Hospital Income | Child Care Benefit | Compassionate Visit | Emergency Medical Evacuation | Medical Repatriation | Repatriation of Mortal Remains |\\n|-----------|--------------------|----------------------------|---------------|------------------------|------------------------|---------------------------|-------------------------------|----------------------|--------------------------|-------------------|---------------------|-----------------------------|----------------------|-------------------------------|\\n| 0         | P230ZII            | Ztravel International      | A             | 2024-06-18             | 2024-07-13             | 500,000                   | 50,000                        | 500                  | 15,000                   | 10,000            | 10,000              | Unlimited                    | Unlimited             | Unlimited                        |\\n| 1         | P230ZII            | Ztravel International Plus | A             | 2024-06-18             | 2024-07-13             | 500,000                   | 50,000                        | 5,000                | 15,000                   | 100,000           | 10,000              | Unlimited                    | Unlimited             | Unlimited                        |\\n| 2         | P045PSI            | Personal Accident          | A             | 2018-08-15             | 2019-08-14             | 500,000                   | 500,000                       | 5,000                | 150,000                  | 100,000           | 100,000             | Unlimited                    | Unlimited             | Unlimited                        |\\n\\nIf you need more details or have any specific queries, please let me know!',\n",
       "  'name': 'Summariser'}]"
      ]
     },
     "execution_count": 6,
     "metadata": {},
     "output_type": "execute_result"
    }
   ],
   "source": [
    "extract_sk_responses(response)"
   ]
  }
 ],
 "metadata": {
  "kernelspec": {
   "display_name": ".venv",
   "language": "python",
   "name": "python3"
  },
  "language_info": {
   "codemirror_mode": {
    "name": "ipython",
    "version": 3
   },
   "file_extension": ".py",
   "mimetype": "text/x-python",
   "name": "python",
   "nbconvert_exporter": "python",
   "pygments_lexer": "ipython3",
   "version": "3.12.4"
  }
 },
 "nbformat": 4,
 "nbformat_minor": 2
}
